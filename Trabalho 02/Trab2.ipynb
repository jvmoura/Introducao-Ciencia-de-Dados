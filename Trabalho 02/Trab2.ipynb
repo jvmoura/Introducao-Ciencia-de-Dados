{
 "cells": [
  {
   "cell_type": "markdown",
   "id": "aa1e1fbc",
   "metadata": {},
   "source": [
    "# Formatando Dataset"
   ]
  },
  {
   "cell_type": "code",
   "execution_count": 1,
   "id": "64776102",
   "metadata": {},
   "outputs": [],
   "source": [
    "import pandas as pd\n",
    "import numpy as np\n",
    "import matplotlib as plt\n",
    "import math"
   ]
  },
  {
   "cell_type": "code",
   "execution_count": 2,
   "id": "a90a6915",
   "metadata": {},
   "outputs": [],
   "source": [
    "spreadsheet = pd.read_csv('./orderedDataset.csv')"
   ]
  },
  {
   "cell_type": "code",
   "execution_count": 3,
   "id": "ed1dd669",
   "metadata": {},
   "outputs": [
    {
     "data": {
      "text/plain": [
       "(1490, 3)"
      ]
     },
     "execution_count": 3,
     "metadata": {},
     "output_type": "execute_result"
    }
   ],
   "source": [
    "spreadsheet.shape"
   ]
  },
  {
   "cell_type": "code",
   "execution_count": 4,
   "id": "ebfc1ddf",
   "metadata": {},
   "outputs": [
    {
     "data": {
      "text/plain": [
       "(1486, 3)"
      ]
     },
     "execution_count": 4,
     "metadata": {},
     "output_type": "execute_result"
    }
   ],
   "source": [
    "spreadsheet = spreadsheet.loc[spreadsheet[\"Valor\"] != 0]\n",
    "spreadsheet.shape"
   ]
  },
  {
   "cell_type": "code",
   "execution_count": 5,
   "id": "be75466d",
   "metadata": {},
   "outputs": [
    {
     "data": {
      "text/plain": [
       "(1485, 3)"
      ]
     },
     "execution_count": 5,
     "metadata": {},
     "output_type": "execute_result"
    }
   ],
   "source": [
    "spreadsheet = spreadsheet.loc[spreadsheet[\"Valor\"] != 1]\n",
    "spreadsheet.shape"
   ]
  },
  {
   "cell_type": "code",
   "execution_count": 6,
   "id": "4a97e2c7",
   "metadata": {},
   "outputs": [
    {
     "data": {
      "text/plain": [
       "(1484, 3)"
      ]
     },
     "execution_count": 6,
     "metadata": {},
     "output_type": "execute_result"
    }
   ],
   "source": [
    "spreadsheet = spreadsheet.loc[spreadsheet[\"Valor\"] != 6]\n",
    "spreadsheet.shape"
   ]
  },
  {
   "cell_type": "code",
   "execution_count": 7,
   "id": "86d25492",
   "metadata": {},
   "outputs": [
    {
     "data": {
      "text/plain": [
       "(1482, 3)"
      ]
     },
     "execution_count": 7,
     "metadata": {},
     "output_type": "execute_result"
    }
   ],
   "source": [
    "spreadsheet = spreadsheet.loc[spreadsheet[\"Valor\"] != 100]\n",
    "spreadsheet.shape"
   ]
  },
  {
   "cell_type": "code",
   "execution_count": 8,
   "id": "1f90561a",
   "metadata": {},
   "outputs": [
    {
     "data": {
      "text/html": [
       "<div>\n",
       "<style scoped>\n",
       "    .dataframe tbody tr th:only-of-type {\n",
       "        vertical-align: middle;\n",
       "    }\n",
       "\n",
       "    .dataframe tbody tr th {\n",
       "        vertical-align: top;\n",
       "    }\n",
       "\n",
       "    .dataframe thead th {\n",
       "        text-align: right;\n",
       "    }\n",
       "</style>\n",
       "<table border=\"1\" class=\"dataframe\">\n",
       "  <thead>\n",
       "    <tr style=\"text-align: right;\">\n",
       "      <th></th>\n",
       "      <th>Modelo</th>\n",
       "      <th>Valor</th>\n",
       "      <th>Local</th>\n",
       "    </tr>\n",
       "  </thead>\n",
       "  <tbody>\n",
       "    <tr>\n",
       "      <th>8</th>\n",
       "      <td>Iphone 6s</td>\n",
       "      <td>200.0</td>\n",
       "      <td>Aquiraz</td>\n",
       "    </tr>\n",
       "    <tr>\n",
       "      <th>9</th>\n",
       "      <td>iPhone 5s</td>\n",
       "      <td>250.0</td>\n",
       "      <td>Fortaleza Vila União</td>\n",
       "    </tr>\n",
       "    <tr>\n",
       "      <th>10</th>\n",
       "      <td>iPhone 6s - seminovo acompanha caixa</td>\n",
       "      <td>300.0</td>\n",
       "      <td>Fortaleza Benfica</td>\n",
       "    </tr>\n",
       "    <tr>\n",
       "      <th>11</th>\n",
       "      <td>iPhone SE 1ª Geração</td>\n",
       "      <td>300.0</td>\n",
       "      <td>Fortaleza Fátima</td>\n",
       "    </tr>\n",
       "    <tr>\n",
       "      <th>12</th>\n",
       "      <td>iPhone 6 128gb</td>\n",
       "      <td>300.0</td>\n",
       "      <td>Fortaleza Vicente Pinzon</td>\n",
       "    </tr>\n",
       "  </tbody>\n",
       "</table>\n",
       "</div>"
      ],
      "text/plain": [
       "                                  Modelo  Valor                     Local\n",
       "8                              Iphone 6s  200.0                   Aquiraz\n",
       "9                              iPhone 5s  250.0      Fortaleza Vila União\n",
       "10  iPhone 6s - seminovo acompanha caixa  300.0         Fortaleza Benfica\n",
       "11                 iPhone SE 1ª Geração   300.0          Fortaleza Fátima\n",
       "12                        iPhone 6 128gb  300.0  Fortaleza Vicente Pinzon"
      ]
     },
     "execution_count": 8,
     "metadata": {},
     "output_type": "execute_result"
    }
   ],
   "source": [
    "spreadsheet.head()"
   ]
  },
  {
   "cell_type": "code",
   "execution_count": 9,
   "id": "9801e4dd",
   "metadata": {},
   "outputs": [],
   "source": [
    "#deixando o dataset em caixa alta, já que o python é case sensitive e os usuários da olx escrevem os nomes dos produtos\n",
    "#de forma não padronizada\n",
    "spreadsheet = spreadsheet.apply(lambda x: x.astype(str).str.upper())"
   ]
  },
  {
   "cell_type": "code",
   "execution_count": 10,
   "id": "56eb2ca6",
   "metadata": {},
   "outputs": [
    {
     "data": {
      "text/html": [
       "<div>\n",
       "<style scoped>\n",
       "    .dataframe tbody tr th:only-of-type {\n",
       "        vertical-align: middle;\n",
       "    }\n",
       "\n",
       "    .dataframe tbody tr th {\n",
       "        vertical-align: top;\n",
       "    }\n",
       "\n",
       "    .dataframe thead th {\n",
       "        text-align: right;\n",
       "    }\n",
       "</style>\n",
       "<table border=\"1\" class=\"dataframe\">\n",
       "  <thead>\n",
       "    <tr style=\"text-align: right;\">\n",
       "      <th></th>\n",
       "      <th>Modelo</th>\n",
       "      <th>Valor</th>\n",
       "      <th>Local</th>\n",
       "    </tr>\n",
       "  </thead>\n",
       "  <tbody>\n",
       "    <tr>\n",
       "      <th>8</th>\n",
       "      <td>IPHONE 6S</td>\n",
       "      <td>200.0</td>\n",
       "      <td>AQUIRAZ</td>\n",
       "    </tr>\n",
       "    <tr>\n",
       "      <th>9</th>\n",
       "      <td>IPHONE 5S</td>\n",
       "      <td>250.0</td>\n",
       "      <td>FORTALEZA VILA UNIÃO</td>\n",
       "    </tr>\n",
       "    <tr>\n",
       "      <th>10</th>\n",
       "      <td>IPHONE 6S - SEMINOVO ACOMPANHA CAIXA</td>\n",
       "      <td>300.0</td>\n",
       "      <td>FORTALEZA BENFICA</td>\n",
       "    </tr>\n",
       "    <tr>\n",
       "      <th>11</th>\n",
       "      <td>IPHONE SE 1ª GERAÇÃO</td>\n",
       "      <td>300.0</td>\n",
       "      <td>FORTALEZA FÁTIMA</td>\n",
       "    </tr>\n",
       "    <tr>\n",
       "      <th>12</th>\n",
       "      <td>IPHONE 6 128GB</td>\n",
       "      <td>300.0</td>\n",
       "      <td>FORTALEZA VICENTE PINZON</td>\n",
       "    </tr>\n",
       "  </tbody>\n",
       "</table>\n",
       "</div>"
      ],
      "text/plain": [
       "                                  Modelo  Valor                     Local\n",
       "8                              IPHONE 6S  200.0                   AQUIRAZ\n",
       "9                              IPHONE 5S  250.0      FORTALEZA VILA UNIÃO\n",
       "10  IPHONE 6S - SEMINOVO ACOMPANHA CAIXA  300.0         FORTALEZA BENFICA\n",
       "11                 IPHONE SE 1ª GERAÇÃO   300.0          FORTALEZA FÁTIMA\n",
       "12                        IPHONE 6 128GB  300.0  FORTALEZA VICENTE PINZON"
      ]
     },
     "execution_count": 10,
     "metadata": {},
     "output_type": "execute_result"
    }
   ],
   "source": [
    "spreadsheet.head()"
   ]
  },
  {
   "cell_type": "code",
   "execution_count": 11,
   "id": "bc112946",
   "metadata": {},
   "outputs": [],
   "source": [
    "spreadsheet = spreadsheet[~spreadsheet['Modelo'].isin(['IPHONE'])]"
   ]
  },
  {
   "cell_type": "code",
   "execution_count": 12,
   "id": "b0637823",
   "metadata": {},
   "outputs": [],
   "source": [
    "spreadsheet = spreadsheet[~spreadsheet['Modelo'].isin(['PRÓ'])]"
   ]
  },
  {
   "cell_type": "code",
   "execution_count": 13,
   "id": "18365921",
   "metadata": {},
   "outputs": [],
   "source": [
    "spreadsheet = spreadsheet[~spreadsheet['Modelo'].isin(['TROCO'])]"
   ]
  },
  {
   "cell_type": "code",
   "execution_count": 14,
   "id": "168f108f",
   "metadata": {},
   "outputs": [
    {
     "data": {
      "text/html": [
       "<div>\n",
       "<style scoped>\n",
       "    .dataframe tbody tr th:only-of-type {\n",
       "        vertical-align: middle;\n",
       "    }\n",
       "\n",
       "    .dataframe tbody tr th {\n",
       "        vertical-align: top;\n",
       "    }\n",
       "\n",
       "    .dataframe thead th {\n",
       "        text-align: right;\n",
       "    }\n",
       "</style>\n",
       "<table border=\"1\" class=\"dataframe\">\n",
       "  <thead>\n",
       "    <tr style=\"text-align: right;\">\n",
       "      <th></th>\n",
       "      <th>Modelo</th>\n",
       "      <th>Valor</th>\n",
       "      <th>Local</th>\n",
       "    </tr>\n",
       "  </thead>\n",
       "  <tbody>\n",
       "    <tr>\n",
       "      <th>8</th>\n",
       "      <td>IPHONE 6S</td>\n",
       "      <td>200.0</td>\n",
       "      <td>AQUIRAZ</td>\n",
       "    </tr>\n",
       "    <tr>\n",
       "      <th>9</th>\n",
       "      <td>IPHONE 5S</td>\n",
       "      <td>250.0</td>\n",
       "      <td>FORTALEZA VILA UNIÃO</td>\n",
       "    </tr>\n",
       "    <tr>\n",
       "      <th>10</th>\n",
       "      <td>IPHONE 6S - SEMINOVO ACOMPANHA CAIXA</td>\n",
       "      <td>300.0</td>\n",
       "      <td>FORTALEZA BENFICA</td>\n",
       "    </tr>\n",
       "    <tr>\n",
       "      <th>11</th>\n",
       "      <td>IPHONE SE 1ª GERAÇÃO</td>\n",
       "      <td>300.0</td>\n",
       "      <td>FORTALEZA FÁTIMA</td>\n",
       "    </tr>\n",
       "    <tr>\n",
       "      <th>12</th>\n",
       "      <td>IPHONE 6 128GB</td>\n",
       "      <td>300.0</td>\n",
       "      <td>FORTALEZA VICENTE PINZON</td>\n",
       "    </tr>\n",
       "    <tr>\n",
       "      <th>...</th>\n",
       "      <td>...</td>\n",
       "      <td>...</td>\n",
       "      <td>...</td>\n",
       "    </tr>\n",
       "    <tr>\n",
       "      <th>1485</th>\n",
       "      <td>IPHONE 14 PRO MAX 256GB - CHIP FÍSICO - GARANT...</td>\n",
       "      <td>7399.0</td>\n",
       "      <td>FORTALEZA MEIRELES</td>\n",
       "    </tr>\n",
       "    <tr>\n",
       "      <th>1486</th>\n",
       "      <td>VENDO IPHONE 13 PRO MAX</td>\n",
       "      <td>7500.0</td>\n",
       "      <td>FORTALEZA PARQUE PRESIDENTE VARGAS</td>\n",
       "    </tr>\n",
       "    <tr>\n",
       "      <th>1487</th>\n",
       "      <td>IPHONE 14 PRO MAX 256GB</td>\n",
       "      <td>7500.0</td>\n",
       "      <td>FORTALEZA MANOEL SÁTIRO</td>\n",
       "    </tr>\n",
       "    <tr>\n",
       "      <th>1488</th>\n",
       "      <td>IPHONE 14 PRO MAX</td>\n",
       "      <td>7500.0</td>\n",
       "      <td>FORTALEZA MUCURIPE</td>\n",
       "    </tr>\n",
       "    <tr>\n",
       "      <th>1489</th>\n",
       "      <td>IPHONE 13 PRO</td>\n",
       "      <td>7500.0</td>\n",
       "      <td>MARACANAÚ PAJUÇARA</td>\n",
       "    </tr>\n",
       "  </tbody>\n",
       "</table>\n",
       "<p>1480 rows × 3 columns</p>\n",
       "</div>"
      ],
      "text/plain": [
       "                                                 Modelo   Valor  \\\n",
       "8                                             IPHONE 6S   200.0   \n",
       "9                                             IPHONE 5S   250.0   \n",
       "10                 IPHONE 6S - SEMINOVO ACOMPANHA CAIXA   300.0   \n",
       "11                                IPHONE SE 1ª GERAÇÃO    300.0   \n",
       "12                                       IPHONE 6 128GB   300.0   \n",
       "...                                                 ...     ...   \n",
       "1485  IPHONE 14 PRO MAX 256GB - CHIP FÍSICO - GARANT...  7399.0   \n",
       "1486                           VENDO IPHONE 13 PRO MAX   7500.0   \n",
       "1487                            IPHONE 14 PRO MAX 256GB  7500.0   \n",
       "1488                                 IPHONE 14 PRO MAX   7500.0   \n",
       "1489                                      IPHONE 13 PRO  7500.0   \n",
       "\n",
       "                                   Local  \n",
       "8                                AQUIRAZ  \n",
       "9                   FORTALEZA VILA UNIÃO  \n",
       "10                     FORTALEZA BENFICA  \n",
       "11                      FORTALEZA FÁTIMA  \n",
       "12              FORTALEZA VICENTE PINZON  \n",
       "...                                  ...  \n",
       "1485                  FORTALEZA MEIRELES  \n",
       "1486  FORTALEZA PARQUE PRESIDENTE VARGAS  \n",
       "1487             FORTALEZA MANOEL SÁTIRO  \n",
       "1488                  FORTALEZA MUCURIPE  \n",
       "1489                  MARACANAÚ PAJUÇARA  \n",
       "\n",
       "[1480 rows x 3 columns]"
      ]
     },
     "execution_count": 14,
     "metadata": {},
     "output_type": "execute_result"
    }
   ],
   "source": [
    "spreadsheet"
   ]
  },
  {
   "cell_type": "code",
   "execution_count": 15,
   "id": "ba1a9fcd",
   "metadata": {},
   "outputs": [],
   "source": [
    "spreadsheet.to_csv('dataset.csv', index=False)"
   ]
  },
  {
   "cell_type": "code",
   "execution_count": 16,
   "id": "176f8391",
   "metadata": {},
   "outputs": [],
   "source": [
    "dataSet_df = pd.read_csv('./dataset.csv')"
   ]
  },
  {
   "cell_type": "markdown",
   "id": "60fb4637",
   "metadata": {},
   "source": [
    "# Editando o Dataset de novo"
   ]
  },
  {
   "cell_type": "code",
   "execution_count": 17,
   "id": "55ed4d51",
   "metadata": {},
   "outputs": [
    {
     "data": {
      "text/html": [
       "<div>\n",
       "<style scoped>\n",
       "    .dataframe tbody tr th:only-of-type {\n",
       "        vertical-align: middle;\n",
       "    }\n",
       "\n",
       "    .dataframe tbody tr th {\n",
       "        vertical-align: top;\n",
       "    }\n",
       "\n",
       "    .dataframe thead th {\n",
       "        text-align: right;\n",
       "    }\n",
       "</style>\n",
       "<table border=\"1\" class=\"dataframe\">\n",
       "  <thead>\n",
       "    <tr style=\"text-align: right;\">\n",
       "      <th></th>\n",
       "      <th>Modelo</th>\n",
       "      <th>Valor</th>\n",
       "      <th>Local</th>\n",
       "    </tr>\n",
       "  </thead>\n",
       "  <tbody>\n",
       "    <tr>\n",
       "      <th>0</th>\n",
       "      <td>IPHONE 6S</td>\n",
       "      <td>200.0</td>\n",
       "      <td>AQUIRAZ</td>\n",
       "    </tr>\n",
       "    <tr>\n",
       "      <th>1</th>\n",
       "      <td>IPHONE 5S</td>\n",
       "      <td>250.0</td>\n",
       "      <td>FORTALEZA VILA UNIÃO</td>\n",
       "    </tr>\n",
       "    <tr>\n",
       "      <th>2</th>\n",
       "      <td>IPHONE 6S</td>\n",
       "      <td>300.0</td>\n",
       "      <td>FORTALEZA BENFICA</td>\n",
       "    </tr>\n",
       "    <tr>\n",
       "      <th>3</th>\n",
       "      <td>IPHONE SE</td>\n",
       "      <td>300.0</td>\n",
       "      <td>FORTALEZA FÁTIMA</td>\n",
       "    </tr>\n",
       "    <tr>\n",
       "      <th>4</th>\n",
       "      <td>IPHONE 6</td>\n",
       "      <td>300.0</td>\n",
       "      <td>FORTALEZA VICENTE PINZON</td>\n",
       "    </tr>\n",
       "    <tr>\n",
       "      <th>...</th>\n",
       "      <td>...</td>\n",
       "      <td>...</td>\n",
       "      <td>...</td>\n",
       "    </tr>\n",
       "    <tr>\n",
       "      <th>1475</th>\n",
       "      <td>IPHONE 14 PRO MAX</td>\n",
       "      <td>7399.0</td>\n",
       "      <td>FORTALEZA MEIRELES</td>\n",
       "    </tr>\n",
       "    <tr>\n",
       "      <th>1476</th>\n",
       "      <td>IPHONE 13 PRO MAX</td>\n",
       "      <td>7500.0</td>\n",
       "      <td>FORTALEZA PARQUE PRESIDENTE VARGAS</td>\n",
       "    </tr>\n",
       "    <tr>\n",
       "      <th>1477</th>\n",
       "      <td>IPHONE 14 PRO MAX</td>\n",
       "      <td>7500.0</td>\n",
       "      <td>FORTALEZA MANOEL SÁTIRO</td>\n",
       "    </tr>\n",
       "    <tr>\n",
       "      <th>1478</th>\n",
       "      <td>IPHONE 14 PRO MAX</td>\n",
       "      <td>7500.0</td>\n",
       "      <td>FORTALEZA MUCURIPE</td>\n",
       "    </tr>\n",
       "    <tr>\n",
       "      <th>1479</th>\n",
       "      <td>IPHONE 13 PRO</td>\n",
       "      <td>7500.0</td>\n",
       "      <td>MARACANAÚ PAJUÇARA</td>\n",
       "    </tr>\n",
       "  </tbody>\n",
       "</table>\n",
       "<p>1480 rows × 3 columns</p>\n",
       "</div>"
      ],
      "text/plain": [
       "                 Modelo   Valor                               Local\n",
       "0             IPHONE 6S   200.0                             AQUIRAZ\n",
       "1             IPHONE 5S   250.0                FORTALEZA VILA UNIÃO\n",
       "2             IPHONE 6S   300.0                   FORTALEZA BENFICA\n",
       "3             IPHONE SE   300.0                    FORTALEZA FÁTIMA\n",
       "4              IPHONE 6   300.0            FORTALEZA VICENTE PINZON\n",
       "...                 ...     ...                                 ...\n",
       "1475  IPHONE 14 PRO MAX  7399.0                  FORTALEZA MEIRELES\n",
       "1476  IPHONE 13 PRO MAX  7500.0  FORTALEZA PARQUE PRESIDENTE VARGAS\n",
       "1477  IPHONE 14 PRO MAX  7500.0             FORTALEZA MANOEL SÁTIRO\n",
       "1478  IPHONE 14 PRO MAX  7500.0                  FORTALEZA MUCURIPE\n",
       "1479      IPHONE 13 PRO  7500.0                  MARACANAÚ PAJUÇARA\n",
       "\n",
       "[1480 rows x 3 columns]"
      ]
     },
     "execution_count": 17,
     "metadata": {},
     "output_type": "execute_result"
    }
   ],
   "source": [
    "#iPhone 6\n",
    "dataSet_df.loc[dataSet_df['Modelo'].str.contains(r'\\bIPHONE 6\\b') & ~dataSet_df['Modelo'].str.contains('PLUS'), ['Modelo']] = 'IPHONE 6'\n",
    "dataSet_df.loc[dataSet_df['Modelo'].str.contains(r'\\bIPHONE 6\\b') & dataSet_df['Modelo'].str.contains('PLUS'), ['Modelo']] = 'IPHONE 6 PLUS'\n",
    "#iPhone 6S\n",
    "dataSet_df.loc[dataSet_df['Modelo'].str.contains('IPHONE 6S') & ~dataSet_df['Modelo'].str.contains('PLUS'), ['Modelo']] = 'IPHONE 6S'\n",
    "dataSet_df.loc[dataSet_df['Modelo'].str.contains('IPHONE 6S') & dataSet_df['Modelo'].str.contains('PLUS'), ['Modelo']] = 'IPHONE 6S PLUS'\n",
    "#iPhone 7\n",
    "dataSet_df.loc[dataSet_df['Modelo'].str.contains('IPHONE 7') & ~dataSet_df['Modelo'].str.contains('PLUS'), ['Modelo']] = 'IPHONE 7'\n",
    "dataSet_df.loc[dataSet_df['Modelo'].str.contains('IPHONE 7') & dataSet_df['Modelo'].str.contains('PLUS'), ['Modelo']] = 'IPHONE 7 PLUS'\n",
    "#iPhone 8\n",
    "dataSet_df.loc[dataSet_df['Modelo'].str.contains('IPHONE 8') & ~dataSet_df['Modelo'].str.contains('PLUS'), ['Modelo']] = 'IPHONE 8'\n",
    "dataSet_df.loc[dataSet_df['Modelo'].str.contains('IPHONE 8') & dataSet_df['Modelo'].str.contains('PLUS'), ['Modelo']] = 'IPHONE 8 PLUS'\n",
    "#iPhone X\n",
    "dataSet_df.loc[dataSet_df['Modelo'].str.contains('IPHONE X') & ~dataSet_df['Modelo'].str.contains('S'), ['Modelo']] = 'IPHONE X'\n",
    "#iPhone XR\n",
    "dataSet_df.loc[dataSet_df['Modelo'].str.contains('IPHONE XR'), ['Modelo']] = 'IPHONE XR'\n",
    "#iPhone XS\n",
    "dataSet_df.loc[dataSet_df['Modelo'].str.contains('IPHONE XS') & ~dataSet_df['Modelo'].str.contains('MAX'), ['Modelo']] = 'IPHONE XS'\n",
    "dataSet_df.loc[dataSet_df['Modelo'].str.contains('IPHONE XS') & dataSet_df['Modelo'].str.contains('MAX'), ['Modelo']] = 'IPHONE XS MAX'\n",
    "#iPhone 11\n",
    "i11 = dataSet_df.loc[dataSet_df['Modelo'].str.contains('IPHONE 11') & ~dataSet_df['Modelo'].str.contains('PRO') & ~dataSet_df['Modelo'].str.contains('MAX'), ['Modelo']] = 'IPHONE 11'\n",
    "dataSet_df.loc[dataSet_df['Modelo'].str.contains('IPHONE 11') & dataSet_df['Modelo'].str.contains('PRO') & ~dataSet_df['Modelo'].str.contains('MAX'), ['Modelo']] = 'IPHONE 11 PRO'\n",
    "dataSet_df.loc[dataSet_df['Modelo'].str.contains('IPHONE 11') & dataSet_df['Modelo'].str.contains('PRO') & dataSet_df['Modelo'].str.contains('MAX'), ['Modelo']] = 'IPHONE 11 PRO MAX'\n",
    "#iPhone 12\n",
    "dataSet_df.loc[dataSet_df['Modelo'].str.contains('IPHONE 12') & ~dataSet_df['Modelo'].str.contains('PRO') & ~dataSet_df['Modelo'].str.contains('MINI') & ~dataSet_df['Modelo'].str.contains('MAX'), ['Modelo']] = 'IPHONE 12'\n",
    "dataSet_df.loc[dataSet_df['Modelo'].str.contains('IPHONE 12') & dataSet_df['Modelo'].str.contains('PRO') & ~dataSet_df['Modelo'].str.contains('MINI') & ~dataSet_df['Modelo'].str.contains('MAX'), ['Modelo']] = 'IPHONE 12 PRO'\n",
    "dataSet_df.loc[dataSet_df['Modelo'].str.contains('IPHONE 12') & dataSet_df['Modelo'].str.contains('PRO') & ~dataSet_df['Modelo'].str.contains('MINI') & dataSet_df['Modelo'].str.contains('MAX'), ['Modelo']] = 'IPHONE 12 PRO MAX'\n",
    "dataSet_df.loc[dataSet_df['Modelo'].str.contains('IPHONE 12') & ~dataSet_df['Modelo'].str.contains('PRO') & dataSet_df['Modelo'].str.contains('MINI') & ~dataSet_df['Modelo'].str.contains('MAX'), ['Modelo']] = 'IPHONE 12 MINI'\n",
    "#iPhone SE\n",
    "iSE = dataSet_df.loc[dataSet_df['Modelo'].str.contains('IPHONE SE'), ['Modelo']] = 'IPHONE SE'\n",
    "#iPhone 13\n",
    "dataSet_df.loc[dataSet_df['Modelo'].str.contains('IPHONE 13') & ~dataSet_df['Modelo'].str.contains('PRO') & ~dataSet_df['Modelo'].str.contains('MINI') & ~dataSet_df['Modelo'].str.contains('MAX'), ['Modelo']] = 'IPHONE 13'\n",
    "dataSet_df.loc[dataSet_df['Modelo'].str.contains('IPHONE 13') & dataSet_df['Modelo'].str.contains('PRO') & ~dataSet_df['Modelo'].str.contains('MINI') & ~dataSet_df['Modelo'].str.contains('MAX'), ['Modelo']] = 'IPHONE 13 PRO'\n",
    "dataSet_df.loc[dataSet_df['Modelo'].str.contains('IPHONE 13') & dataSet_df['Modelo'].str.contains('PRO') & ~dataSet_df['Modelo'].str.contains('MINI') & dataSet_df['Modelo'].str.contains('MAX'), ['Modelo']] = 'IPHONE 13 PRO MAX'\n",
    "dataSet_df.loc[dataSet_df['Modelo'].str.contains('IPHONE 13') & ~dataSet_df['Modelo'].str.contains('PRO') & dataSet_df['Modelo'].str.contains('MINI') & ~dataSet_df['Modelo'].str.contains('MAX'), ['Modelo']] = 'IPHONE 13 MINI'\n",
    "#iPhone 14\n",
    "dataSet_df.loc[dataSet_df['Modelo'].str.contains('IPHONE 14') & ~dataSet_df['Modelo'].str.contains('PRO') & ~dataSet_df['Modelo'].str.contains('PLUS') & ~dataSet_df['Modelo'].str.contains('MAX'), ['Modelo']] = 'IPHONE 14'\n",
    "dataSet_df.loc[dataSet_df['Modelo'].str.contains('IPHONE 14') & dataSet_df['Modelo'].str.contains('PRO') & ~dataSet_df['Modelo'].str.contains('PLUS') & ~dataSet_df['Modelo'].str.contains('MAX'), ['Modelo']] = 'IPHONE 14 PRO'\n",
    "dataSet_df.loc[dataSet_df['Modelo'].str.contains('IPHONE 14') & dataSet_df['Modelo'].str.contains('PRO') & ~dataSet_df['Modelo'].str.contains('PLUS') & dataSet_df['Modelo'].str.contains('MAX'), ['Modelo']] = 'IPHONE 14 PRO MAX'\n",
    "dataSet_df.loc[dataSet_df['Modelo'].str.contains('IPHONE 14') & ~dataSet_df['Modelo'].str.contains('PRO') & dataSet_df['Modelo'].str.contains('PLUS') & ~dataSet_df['Modelo'].str.contains('MAX'), ['Modelo']] = 'IPHONE 14 MINI'\n",
    "dataSet_df"
   ]
  },
  {
   "cell_type": "markdown",
   "id": "44c32741",
   "metadata": {},
   "source": [
    "***\n",
    "# Medidas de Tendência Central"
   ]
  },
  {
   "cell_type": "code",
   "execution_count": 18,
   "id": "39ec1281",
   "metadata": {},
   "outputs": [],
   "source": [
    "#dataset final sem linhas que o codigo não conseguiu remover ou utilizar\n",
    "dataSet_df = pd.read_csv('./finalDataset.csv')"
   ]
  },
  {
   "cell_type": "markdown",
   "id": "d469d871",
   "metadata": {},
   "source": [
    "### Média"
   ]
  },
  {
   "cell_type": "code",
   "execution_count": 19,
   "id": "ed281ece",
   "metadata": {},
   "outputs": [
    {
     "name": "stdout",
     "output_type": "stream",
     "text": [
      "Média dos valores: 2152.8060941828253\n"
     ]
    }
   ],
   "source": [
    "print(\"Média dos valores:\", dataSet_df['Valor'].mean())"
   ]
  },
  {
   "cell_type": "code",
   "execution_count": 20,
   "id": "e2886fb3",
   "metadata": {},
   "outputs": [
    {
     "name": "stdout",
     "output_type": "stream",
     "text": [
      "Média de valor por Modelo:\n",
      "----------Modelos 6----------\n",
      "iPhone 6: 579.0833333333334\n",
      "iPhone 6 Plus: 476.6666666666667\n",
      "iPhone 6S: 499.1875\n",
      "iPhone 6S: 508.3333333333333\n",
      "----------Modelos 7----------\n",
      "iPhone 7: 686.6288659793814\n",
      "iPhone 7 Plus: 953.1224489795918\n",
      "----------Modelos 8----------\n",
      "iPhone 8: 973.741935483871\n",
      "iPhone 8 Plus: 1351.5341614906831\n",
      "----------Modelos X----------\n",
      "iPhone X: 1679.9608695652173\n",
      "iPhone XR: 1743.1\n",
      "iPhone XS: 1665.92\n",
      "iPhone XS Max: 2114.483870967742\n",
      "----------Modelos 11----------\n",
      "iPhone 11: 2332.176470588235\n",
      "iPhone 11 Pro: 2807.0285714285715\n",
      "iPhone 11 Pro: 3185.3939393939395\n",
      "----------Modelos 12----------\n",
      "iPhone 12 Mini: 2484.0\n",
      "iPhone 12: 3187.054054054054\n",
      "iPhone 12 Pro: 3876.235294117647\n",
      "iPhone 12 Pro Max: 4554.11320754717\n",
      "----------Modelos SE----------\n",
      "iPhone SE: 1318.76\n",
      "----------Modelos 13----------\n",
      "iPhone 13 Mini: 3550.0\n",
      "iPhone 13: 4215.578947368421\n",
      "iPhone 13 Pro: 5403.066666666667\n",
      "iPhone 13 Pro Max: 5706.204545454545\n",
      "----------Modelos 13----------\n",
      "iPhone 14 Mini: 5250.0\n",
      "iPhone 14: 4600.0\n",
      "iPhone 14 Pro: 6137.4\n",
      "iPhone 14 Pro Max: 7070.777777777777\n"
     ]
    }
   ],
   "source": [
    "print(\"Média de valor por Modelo:\")\n",
    "#iPhone 6\n",
    "i6 = dataSet_df.loc[dataSet_df['Modelo'].str.contains(r'\\bIPHONE 6\\b') & ~dataSet_df['Modelo'].str.contains('PLUS')]['Valor'].mean()\n",
    "i6Plus = dataSet_df.loc[dataSet_df['Modelo'].str.contains(r'\\bIPHONE 6\\b') & dataSet_df['Modelo'].str.contains('PLUS')]['Valor'].mean()\n",
    "#iPhone 6S\n",
    "i6S = dataSet_df.loc[dataSet_df['Modelo'].str.contains('IPHONE 6S') & ~dataSet_df['Modelo'].str.contains('PLUS')]['Valor'].mean()\n",
    "i6SPlus = dataSet_df.loc[dataSet_df['Modelo'].str.contains('IPHONE 6S') & dataSet_df['Modelo'].str.contains('PLUS')]['Valor'].mean()\n",
    "#iPhone 7\n",
    "i7 = dataSet_df.loc[dataSet_df['Modelo'].str.contains('IPHONE 7') & ~dataSet_df['Modelo'].str.contains('PLUS')]['Valor'].mean()\n",
    "i7Plus = dataSet_df.loc[dataSet_df['Modelo'].str.contains('IPHONE 7') & dataSet_df['Modelo'].str.contains('PLUS')]['Valor'].mean()\n",
    "#iPhone 8\n",
    "i8 = dataSet_df.loc[dataSet_df['Modelo'].str.contains('IPHONE 8') & ~dataSet_df['Modelo'].str.contains('PLUS')]['Valor'].mean()\n",
    "i8Plus = dataSet_df.loc[dataSet_df['Modelo'].str.contains('IPHONE 8') & dataSet_df['Modelo'].str.contains('PLUS')]['Valor'].mean()\n",
    "#iPhone X\n",
    "i10 = dataSet_df.loc[dataSet_df['Modelo'].str.contains('IPHONE 10|IPHONE X') & ~dataSet_df['Modelo'].str.contains('S')]['Valor'].mean()\n",
    "#iPhone XR\n",
    "i10R = dataSet_df.loc[dataSet_df['Modelo'].str.contains('IPHONE 10R|IPHONE XR')]['Valor'].mean()\n",
    "#iPhone XS\n",
    "i10S = dataSet_df.loc[dataSet_df['Modelo'].str.contains('IPHONE 10S|IPHONE XS') & ~dataSet_df['Modelo'].str.contains('MAX')]['Valor'].mean()\n",
    "i10SM = dataSet_df.loc[dataSet_df['Modelo'].str.contains('IPHONE 10S|IPHONE XS') & dataSet_df['Modelo'].str.contains('MAX')]['Valor'].mean()\n",
    "#iPhone 11\n",
    "i11 = dataSet_df.loc[dataSet_df['Modelo'].str.contains('IPHONE 11') & ~dataSet_df['Modelo'].str.contains('PRO') & ~dataSet_df['Modelo'].str.contains('MAX')]['Valor'].mean()\n",
    "i11Pro = dataSet_df.loc[dataSet_df['Modelo'].str.contains('IPHONE 11') & dataSet_df['Modelo'].str.contains('PRO') & ~dataSet_df['Modelo'].str.contains('MAX')]['Valor'].mean()\n",
    "i11ProM = dataSet_df.loc[dataSet_df['Modelo'].str.contains('IPHONE 11') & dataSet_df['Modelo'].str.contains('PRO') & dataSet_df['Modelo'].str.contains('MAX')]['Valor'].mean()\n",
    "#iPhone 12\n",
    "i12 = dataSet_df.loc[dataSet_df['Modelo'].str.contains('IPHONE 12') & ~dataSet_df['Modelo'].str.contains('PRO') & ~dataSet_df['Modelo'].str.contains('MINI') & ~dataSet_df['Modelo'].str.contains('MAX')]['Valor'].mean()\n",
    "i12Pro = dataSet_df.loc[dataSet_df['Modelo'].str.contains('IPHONE 12') & dataSet_df['Modelo'].str.contains('PRO') & ~dataSet_df['Modelo'].str.contains('MINI') & ~dataSet_df['Modelo'].str.contains('MAX')]['Valor'].mean()\n",
    "i12ProM = dataSet_df.loc[dataSet_df['Modelo'].str.contains('IPHONE 12') & dataSet_df['Modelo'].str.contains('PRO') & ~dataSet_df['Modelo'].str.contains('MINI') & dataSet_df['Modelo'].str.contains('MAX')]['Valor'].mean()\n",
    "i12Mini = dataSet_df.loc[dataSet_df['Modelo'].str.contains('IPHONE 12') & ~dataSet_df['Modelo'].str.contains('PRO') & dataSet_df['Modelo'].str.contains('MINI') & ~dataSet_df['Modelo'].str.contains('MAX')]['Valor'].mean()\n",
    "#iPhone SE\n",
    "iSE = dataSet_df.loc[dataSet_df['Modelo'].str.contains('IPHONE SE')]['Valor'].mean()\n",
    "#iPhone 13\n",
    "i13 = dataSet_df.loc[dataSet_df['Modelo'].str.contains('IPHONE 13') & ~dataSet_df['Modelo'].str.contains('PRO') & ~dataSet_df['Modelo'].str.contains('MINI') & ~dataSet_df['Modelo'].str.contains('MAX')]['Valor'].mean()\n",
    "i13Pro = dataSet_df.loc[dataSet_df['Modelo'].str.contains('IPHONE 13') & dataSet_df['Modelo'].str.contains('PRO') & ~dataSet_df['Modelo'].str.contains('MINI') & ~dataSet_df['Modelo'].str.contains('MAX')]['Valor'].mean()\n",
    "i13ProM = dataSet_df.loc[dataSet_df['Modelo'].str.contains('IPHONE 13') & dataSet_df['Modelo'].str.contains('PRO') & ~dataSet_df['Modelo'].str.contains('MINI') & dataSet_df['Modelo'].str.contains('MAX')]['Valor'].mean()\n",
    "i13Mini = dataSet_df.loc[dataSet_df['Modelo'].str.contains('IPHONE 13') & ~dataSet_df['Modelo'].str.contains('PRO') & dataSet_df['Modelo'].str.contains('MINI') & ~dataSet_df['Modelo'].str.contains('MAX')]['Valor'].mean()\n",
    "#iPhone 14\n",
    "i14 = dataSet_df.loc[dataSet_df['Modelo'].str.contains('IPHONE 14') & ~dataSet_df['Modelo'].str.contains('PRO') & ~dataSet_df['Modelo'].str.contains('MINI') & ~dataSet_df['Modelo'].str.contains('MAX')]['Valor'].mean()\n",
    "i14Pro = dataSet_df.loc[dataSet_df['Modelo'].str.contains('IPHONE 14') & dataSet_df['Modelo'].str.contains('PRO') & ~dataSet_df['Modelo'].str.contains('MINI') & ~dataSet_df['Modelo'].str.contains('MAX')]['Valor'].mean()\n",
    "i14ProM = dataSet_df.loc[dataSet_df['Modelo'].str.contains('IPHONE 14') & dataSet_df['Modelo'].str.contains('PRO') & ~dataSet_df['Modelo'].str.contains('MINI') & dataSet_df['Modelo'].str.contains('MAX')]['Valor'].mean()\n",
    "i14Mini = dataSet_df.loc[dataSet_df['Modelo'].str.contains('IPHONE 14') & ~dataSet_df['Modelo'].str.contains('PRO') & dataSet_df['Modelo'].str.contains('MINI') & ~dataSet_df['Modelo'].str.contains('MAX')]['Valor'].mean()\n",
    "print(\"----------Modelos 6----------\")\n",
    "print(\"iPhone 6:\", i6)\n",
    "print(\"iPhone 6 Plus:\", i6Plus)\n",
    "print(\"iPhone 6S:\", i6S)\n",
    "print(\"iPhone 6S:\", i6SPlus)\n",
    "print(\"----------Modelos 7----------\")\n",
    "print(\"iPhone 7:\", i7)\n",
    "print(\"iPhone 7 Plus:\", i7Plus)\n",
    "#iPhone 8\n",
    "print(\"----------Modelos 8----------\")\n",
    "print(\"iPhone 8:\", i8)\n",
    "print(\"iPhone 8 Plus:\", i8Plus)\n",
    "#iPhone X\n",
    "print(\"----------Modelos X----------\")\n",
    "print(\"iPhone X:\", i10)\n",
    "#iPhone XR\n",
    "print(\"iPhone XR:\", i10R)\n",
    "#iPhone XS\n",
    "print(\"iPhone XS:\", i10S)\n",
    "print(\"iPhone XS Max:\", i10SM)\n",
    "#iPhone 11\n",
    "print(\"----------Modelos 11----------\")\n",
    "print(\"iPhone 11:\", i11)\n",
    "print(\"iPhone 11 Pro:\", i11Pro)\n",
    "print(\"iPhone 11 Pro:\", i11ProM)\n",
    "#iPhone 12\n",
    "print(\"----------Modelos 12----------\")\n",
    "print(\"iPhone 12 Mini:\", i12Mini)\n",
    "print(\"iPhone 12:\", i12)\n",
    "print(\"iPhone 12 Pro:\", i12Pro)\n",
    "print(\"iPhone 12 Pro Max:\", i12ProM)\n",
    "#iPhone SE\n",
    "print(\"----------Modelos SE----------\")\n",
    "print(\"iPhone SE:\", iSE)\n",
    "#iPhone 13\n",
    "print(\"----------Modelos 13----------\")\n",
    "print(\"iPhone 13 Mini:\", i13Mini)\n",
    "print(\"iPhone 13:\", i13)\n",
    "print(\"iPhone 13 Pro:\", i13Pro)\n",
    "print(\"iPhone 13 Pro Max:\", i13ProM)\n",
    "#iPhone 14\n",
    "print(\"----------Modelos 13----------\")\n",
    "print(\"iPhone 14 Mini:\", i14Mini)\n",
    "print(\"iPhone 14:\", i14)\n",
    "print(\"iPhone 14 Pro:\", i14Pro)\n",
    "print(\"iPhone 14 Pro Max:\", i14ProM)"
   ]
  },
  {
   "cell_type": "markdown",
   "id": "58f41b45",
   "metadata": {},
   "source": [
    "### Mediana"
   ]
  },
  {
   "cell_type": "code",
   "execution_count": 21,
   "id": "9db8a651",
   "metadata": {},
   "outputs": [
    {
     "name": "stdout",
     "output_type": "stream",
     "text": [
      "Medianas de valor por Modelo:\n",
      "----------Modelos 6----------\n",
      "iPhone 6: 600.0\n",
      "iPhone 6 Plus: 480.0\n",
      "iPhone 6S: 500.0\n",
      "iPhone 6S: 500.0\n",
      "----------Modelos 7----------\n",
      "iPhone 7: 680.0\n",
      "iPhone 7 Plus: 950.0\n",
      "----------Modelos 8----------\n",
      "iPhone 8: 950.0\n",
      "iPhone 8 Plus: 1300.0\n",
      "----------Modelos X----------\n",
      "iPhone X: 1700.0\n",
      "iPhone XR: 1850.0\n",
      "iPhone XS: 1649.0\n",
      "iPhone XS Max: 2000.0\n",
      "----------Modelos 11----------\n",
      "iPhone 11: 2300.0\n",
      "iPhone 11 Pro: 2899.0\n",
      "iPhone 11 Pro: 3200.0\n",
      "----------Modelos 12----------\n",
      "iPhone 12 Mini: 2500.0\n",
      "iPhone 12: 3099.5\n",
      "iPhone 12 Pro: 4000.0\n",
      "iPhone 12 Pro Max: 4500.0\n",
      "----------Modelos SE----------\n",
      "iPhone SE: 1318.76\n",
      "----------Modelos 13----------\n",
      "iPhone 13 Mini: 3550.0\n",
      "iPhone 13: 4000.0\n",
      "iPhone 13 Pro: 5299.0\n",
      "iPhone 13 Pro Max: 5749.0\n",
      "----------Modelos 13----------\n",
      "iPhone 14 Mini: 5250.0\n",
      "iPhone 14: 4600.0\n",
      "iPhone 14 Pro: 6299.0\n",
      "iPhone 14 Pro Max: 7190.0\n"
     ]
    }
   ],
   "source": [
    "print(\"Medianas de valor por Modelo:\")\n",
    "#iPhone 6\n",
    "i6 = dataSet_df.loc[dataSet_df['Modelo'].str.contains(r'\\bIPHONE 6\\b') & ~dataSet_df['Modelo'].str.contains('PLUS')]['Valor'].median()\n",
    "i6Plus = dataSet_df.loc[dataSet_df['Modelo'].str.contains(r'\\bIPHONE 6\\b') & dataSet_df['Modelo'].str.contains('PLUS')]['Valor'].median()\n",
    "#iPhone 6S\n",
    "i6S = dataSet_df.loc[dataSet_df['Modelo'].str.contains('IPHONE 6S') & ~dataSet_df['Modelo'].str.contains('PLUS')]['Valor'].median()\n",
    "i6SPlus = dataSet_df.loc[dataSet_df['Modelo'].str.contains('IPHONE 6S') & dataSet_df['Modelo'].str.contains('PLUS')]['Valor'].median()\n",
    "#iPhone 7\n",
    "i7 = dataSet_df.loc[dataSet_df['Modelo'].str.contains('IPHONE 7') & ~dataSet_df['Modelo'].str.contains('PLUS')]['Valor'].median()\n",
    "i7Plus = dataSet_df.loc[dataSet_df['Modelo'].str.contains('IPHONE 7') & dataSet_df['Modelo'].str.contains('PLUS')]['Valor'].median()\n",
    "#iPhone 8\n",
    "i8 = dataSet_df.loc[dataSet_df['Modelo'].str.contains('IPHONE 8') & ~dataSet_df['Modelo'].str.contains('PLUS')]['Valor'].median()\n",
    "i8Plus = dataSet_df.loc[dataSet_df['Modelo'].str.contains('IPHONE 8') & dataSet_df['Modelo'].str.contains('PLUS')]['Valor'].median()\n",
    "#iPhone X\n",
    "i10 = dataSet_df.loc[dataSet_df['Modelo'].str.contains('IPHONE 10|IPHONE X') & ~dataSet_df['Modelo'].str.contains('S')]['Valor'].median()\n",
    "#iPhone XR\n",
    "i10R = dataSet_df.loc[dataSet_df['Modelo'].str.contains('IPHONE 10R|IPHONE XR')]['Valor'].median()\n",
    "#iPhone XS\n",
    "i10S = dataSet_df.loc[dataSet_df['Modelo'].str.contains('IPHONE 10S|IPHONE XS') & ~dataSet_df['Modelo'].str.contains('MAX')]['Valor'].median()\n",
    "i10SM = dataSet_df.loc[dataSet_df['Modelo'].str.contains('IPHONE 10S|IPHONE XS') & dataSet_df['Modelo'].str.contains('MAX')]['Valor'].median()\n",
    "#iPhone 11\n",
    "i11 = dataSet_df.loc[dataSet_df['Modelo'].str.contains('IPHONE 11') & ~dataSet_df['Modelo'].str.contains('PRO') & ~dataSet_df['Modelo'].str.contains('MAX')]['Valor'].median()\n",
    "i11Pro = dataSet_df.loc[dataSet_df['Modelo'].str.contains('IPHONE 11') & dataSet_df['Modelo'].str.contains('PRO') & ~dataSet_df['Modelo'].str.contains('MAX')]['Valor'].median()\n",
    "i11ProM = dataSet_df.loc[dataSet_df['Modelo'].str.contains('IPHONE 11') & dataSet_df['Modelo'].str.contains('PRO') & dataSet_df['Modelo'].str.contains('MAX')]['Valor'].median()\n",
    "#iPhone 12\n",
    "i12 = dataSet_df.loc[dataSet_df['Modelo'].str.contains('IPHONE 12') & ~dataSet_df['Modelo'].str.contains('PRO') & ~dataSet_df['Modelo'].str.contains('MINI') & ~dataSet_df['Modelo'].str.contains('MAX')]['Valor'].median()\n",
    "i12Pro = dataSet_df.loc[dataSet_df['Modelo'].str.contains('IPHONE 12') & dataSet_df['Modelo'].str.contains('PRO') & ~dataSet_df['Modelo'].str.contains('MINI') & ~dataSet_df['Modelo'].str.contains('MAX')]['Valor'].median()\n",
    "i12ProM = dataSet_df.loc[dataSet_df['Modelo'].str.contains('IPHONE 12') & dataSet_df['Modelo'].str.contains('PRO') & ~dataSet_df['Modelo'].str.contains('MINI') & dataSet_df['Modelo'].str.contains('MAX')]['Valor'].median()\n",
    "i12Mini = dataSet_df.loc[dataSet_df['Modelo'].str.contains('IPHONE 12') & ~dataSet_df['Modelo'].str.contains('PRO') & dataSet_df['Modelo'].str.contains('MINI') & ~dataSet_df['Modelo'].str.contains('MAX')]['Valor'].median()\n",
    "#iPhone SE\n",
    "iSE = dataSet_df.loc[dataSet_df['Modelo'].str.contains('IPHONE SE')]['Valor'].mean()\n",
    "#iPhone 13\n",
    "i13 = dataSet_df.loc[dataSet_df['Modelo'].str.contains('IPHONE 13') & ~dataSet_df['Modelo'].str.contains('PRO') & ~dataSet_df['Modelo'].str.contains('MINI') & ~dataSet_df['Modelo'].str.contains('MAX')]['Valor'].median()\n",
    "i13Pro = dataSet_df.loc[dataSet_df['Modelo'].str.contains('IPHONE 13') & dataSet_df['Modelo'].str.contains('PRO') & ~dataSet_df['Modelo'].str.contains('MINI') & ~dataSet_df['Modelo'].str.contains('MAX')]['Valor'].median()\n",
    "i13ProM = dataSet_df.loc[dataSet_df['Modelo'].str.contains('IPHONE 13') & dataSet_df['Modelo'].str.contains('PRO') & ~dataSet_df['Modelo'].str.contains('MINI') & dataSet_df['Modelo'].str.contains('MAX')]['Valor'].median()\n",
    "i13Mini = dataSet_df.loc[dataSet_df['Modelo'].str.contains('IPHONE 13') & ~dataSet_df['Modelo'].str.contains('PRO') & dataSet_df['Modelo'].str.contains('MINI') & ~dataSet_df['Modelo'].str.contains('MAX')]['Valor'].median()\n",
    "#iPhone 14\n",
    "i14 = dataSet_df.loc[dataSet_df['Modelo'].str.contains('IPHONE 14') & ~dataSet_df['Modelo'].str.contains('PRO') & ~dataSet_df['Modelo'].str.contains('MINI') & ~dataSet_df['Modelo'].str.contains('MAX')]['Valor'].median()\n",
    "i14Pro = dataSet_df.loc[dataSet_df['Modelo'].str.contains('IPHONE 14') & dataSet_df['Modelo'].str.contains('PRO') & ~dataSet_df['Modelo'].str.contains('MINI') & ~dataSet_df['Modelo'].str.contains('MAX')]['Valor'].median()\n",
    "i14ProM = dataSet_df.loc[dataSet_df['Modelo'].str.contains('IPHONE 14') & dataSet_df['Modelo'].str.contains('PRO') & ~dataSet_df['Modelo'].str.contains('MINI') & dataSet_df['Modelo'].str.contains('MAX')]['Valor'].median()\n",
    "i14Mini = dataSet_df.loc[dataSet_df['Modelo'].str.contains('IPHONE 14') & ~dataSet_df['Modelo'].str.contains('PRO') & dataSet_df['Modelo'].str.contains('MINI') & ~dataSet_df['Modelo'].str.contains('MAX')]['Valor'].median()\n",
    "print(\"----------Modelos 6----------\")\n",
    "print(\"iPhone 6:\", i6)\n",
    "print(\"iPhone 6 Plus:\", i6Plus)\n",
    "print(\"iPhone 6S:\", i6S)\n",
    "print(\"iPhone 6S:\", i6SPlus)\n",
    "print(\"----------Modelos 7----------\")\n",
    "print(\"iPhone 7:\", i7)\n",
    "print(\"iPhone 7 Plus:\", i7Plus)\n",
    "#iPhone 8\n",
    "print(\"----------Modelos 8----------\")\n",
    "print(\"iPhone 8:\", i8)\n",
    "print(\"iPhone 8 Plus:\", i8Plus)\n",
    "#iPhone X\n",
    "print(\"----------Modelos X----------\")\n",
    "print(\"iPhone X:\", i10)\n",
    "#iPhone XR\n",
    "print(\"iPhone XR:\", i10R)\n",
    "#iPhone XS\n",
    "print(\"iPhone XS:\", i10S)\n",
    "print(\"iPhone XS Max:\", i10SM)\n",
    "#iPhone 11\n",
    "print(\"----------Modelos 11----------\")\n",
    "print(\"iPhone 11:\", i11)\n",
    "print(\"iPhone 11 Pro:\", i11Pro)\n",
    "print(\"iPhone 11 Pro:\", i11ProM)\n",
    "#iPhone 12\n",
    "print(\"----------Modelos 12----------\")\n",
    "print(\"iPhone 12 Mini:\", i12Mini)\n",
    "print(\"iPhone 12:\", i12)\n",
    "print(\"iPhone 12 Pro:\", i12Pro)\n",
    "print(\"iPhone 12 Pro Max:\", i12ProM)\n",
    "#iPhone SE\n",
    "print(\"----------Modelos SE----------\")\n",
    "print(\"iPhone SE:\", iSE)\n",
    "#iPhone 13\n",
    "print(\"----------Modelos 13----------\")\n",
    "print(\"iPhone 13 Mini:\", i13Mini)\n",
    "print(\"iPhone 13:\", i13)\n",
    "print(\"iPhone 13 Pro:\", i13Pro)\n",
    "print(\"iPhone 13 Pro Max:\", i13ProM)\n",
    "#iPhone 14\n",
    "print(\"----------Modelos 13----------\")\n",
    "print(\"iPhone 14 Mini:\", i14Mini)\n",
    "print(\"iPhone 14:\", i14)\n",
    "print(\"iPhone 14 Pro:\", i14Pro)\n",
    "print(\"iPhone 14 Pro Max:\", i14ProM)"
   ]
  },
  {
   "cell_type": "markdown",
   "id": "0987f5a1",
   "metadata": {},
   "source": [
    "***\n",
    "# Medidas de Variabilidade"
   ]
  },
  {
   "cell_type": "code",
   "execution_count": 22,
   "id": "fefa5ae0",
   "metadata": {},
   "outputs": [
    {
     "data": {
      "text/plain": [
       "2152.8060941828253"
      ]
     },
     "execution_count": 22,
     "metadata": {},
     "output_type": "execute_result"
    }
   ],
   "source": [
    "mediaValor = dataSet_df['Valor'].mean()\n",
    "mediaValor"
   ]
  },
  {
   "cell_type": "markdown",
   "id": "946599c5",
   "metadata": {},
   "source": [
    "### Desvio"
   ]
  },
  {
   "cell_type": "code",
   "execution_count": 23,
   "id": "0eaac246",
   "metadata": {},
   "outputs": [
    {
     "data": {
      "text/plain": [
       "0      -1952.806094\n",
       "1      -1902.806094\n",
       "2      -1852.806094\n",
       "3      -1852.806094\n",
       "4      -1852.806094\n",
       "           ...     \n",
       "1439    5246.193906\n",
       "1440    5347.193906\n",
       "1441    5347.193906\n",
       "1442    5347.193906\n",
       "1443    5347.193906\n",
       "Name: Valor, Length: 1444, dtype: float64"
      ]
     },
     "execution_count": 23,
     "metadata": {},
     "output_type": "execute_result"
    }
   ],
   "source": [
    "desvio = dataSet_df['Valor'].apply(lambda x: x - mediaValor)\n",
    "desvio"
   ]
  },
  {
   "cell_type": "markdown",
   "id": "e05f3cff",
   "metadata": {},
   "source": [
    "### Média do Desvio Absoluto"
   ]
  },
  {
   "cell_type": "code",
   "execution_count": 24,
   "id": "c3dbc93b",
   "metadata": {},
   "outputs": [
    {
     "data": {
      "text/plain": [
       "1053.6982527758296"
      ]
     },
     "execution_count": 24,
     "metadata": {},
     "output_type": "execute_result"
    }
   ],
   "source": [
    "acc = 0\n",
    "for i in range(len(dataSet_df)):\n",
    "    acc += abs((dataSet_df['Valor'].loc[i] - mediaValor))\n",
    "acc = acc/len(dataSet_df)\n",
    "acc "
   ]
  },
  {
   "cell_type": "markdown",
   "id": "71fc0722",
   "metadata": {},
   "source": [
    "### Variância"
   ]
  },
  {
   "cell_type": "code",
   "execution_count": 25,
   "id": "7b486bfb",
   "metadata": {},
   "outputs": [
    {
     "data": {
      "text/plain": [
       "1878169.4703439889"
      ]
     },
     "execution_count": 25,
     "metadata": {},
     "output_type": "execute_result"
    }
   ],
   "source": [
    "dataSet_df['Valor'].var()"
   ]
  },
  {
   "cell_type": "markdown",
   "id": "e0c7f6c7",
   "metadata": {},
   "source": [
    "### Desvio Padrão"
   ]
  },
  {
   "cell_type": "code",
   "execution_count": 26,
   "id": "b8fe7e0b",
   "metadata": {},
   "outputs": [
    {
     "data": {
      "text/plain": [
       "1370.4632320292249"
      ]
     },
     "execution_count": 26,
     "metadata": {},
     "output_type": "execute_result"
    }
   ],
   "source": [
    "dataSet_df['Valor'].std()"
   ]
  },
  {
   "cell_type": "markdown",
   "id": "ab465a26",
   "metadata": {},
   "source": [
    "### Boxplot"
   ]
  },
  {
   "cell_type": "code",
   "execution_count": 27,
   "id": "12be3b9c",
   "metadata": {},
   "outputs": [
    {
     "data": {
      "text/plain": [
       "<Axes: >"
      ]
     },
     "execution_count": 27,
     "metadata": {},
     "output_type": "execute_result"
    },
    {
     "data": {
      "image/png": "[encoded data removed]",
      "text/plain": [
       "<Figure size 800x800 with 1 Axes>"
      ]
     },
     "metadata": {},
     "output_type": "display_data"
    }
   ],
   "source": [
    "dataSet_df.boxplot(column=['Valor'], fontsize='large', figsize=(8,8))"
   ]
  },
  {
   "cell_type": "markdown",
   "id": "55f0343e",
   "metadata": {},
   "source": [
    "***\n",
    "# Tabela de Frequência e Histograma"
   ]
  },
  {
   "cell_type": "markdown",
   "id": "ed0eae1e",
   "metadata": {},
   "source": [
    "### Tabela de Frequência"
   ]
  },
  {
   "cell_type": "code",
   "execution_count": 28,
   "id": "f598a769",
   "metadata": {},
   "outputs": [
    {
     "name": "stdout",
     "output_type": "stream",
     "text": [
      "Modelo\n",
      "IPHONE 11            255\n",
      "IPHONE X             199\n",
      "IPHONE 8 PLUS        161\n",
      "IPHONE 7 PLUS         98\n",
      "IPHONE 7              97\n",
      "IPHONE 8              93\n",
      "IPHONE 12             74\n",
      "IPHONE 11 PRO MAX     66\n",
      "IPHONE 12 PRO MAX     53\n",
      "IPHONE 13 PRO MAX     44\n",
      "IPHONE 13             38\n",
      "IPHONE 11 PRO         35\n",
      "IPHONE 6S             32\n",
      "IPHONE XS MAX         31\n",
      "IPHONE XR             30\n",
      "IPHONE XS             25\n",
      "IPHONE SE             25\n",
      "IPHONE 12 PRO         17\n",
      "IPHONE 13 PRO         15\n",
      "IPHONE 6              12\n",
      "IPHONE 12 MINI        10\n",
      "IPHONE 14 PRO MAX      9\n",
      "IPHONE 6S PLUS         6\n",
      "IPHONE 14 PRO          5\n",
      "IPHONE 13 MINI         5\n",
      "IPHONE 6 PLUS          3\n",
      "IPHONE 5S              3\n",
      "IPHONE X PRO MAX       1\n",
      "IPHONE 14              1\n",
      "IPHONE 14 MINI         1\n",
      "Name: Modelo, dtype: int64\n",
      "\n",
      "\n",
      "\n",
      "\n",
      "Local\n",
      "FORTALEZA MEIRELES                         41\n",
      "FORTALEZA CENTRO                           36\n",
      "FORTALEZA ALDEOTA                          36\n",
      "FORTALEZA BARRA DO CEARÁ                   30\n",
      "MARACANAÚ CENTRO                           30\n",
      "FORTALEZA MONDUBIM                         29\n",
      "FORTALEZA MESSEJANA                        29\n",
      "FORTALEZA PASSARÉ                          27\n",
      "FORTALEZA JANGURUSSU                       25\n",
      "FORTALEZA PAPICU                           23\n",
      "FORTALEZA VILA VELHA                       20\n",
      "FORTALEZA PARANGABA                        20\n",
      "FORTALEZA ANTÔNIO BEZERRA                  19\n",
      "AQUIRAZ                                    19\n",
      "PACATUBA SENADOR CARLOS JEREISSATI         19\n",
      "FORTALEZA EDSON QUEIROZ                    18\n",
      "FORTALEZA RODOLFO TEÓFILO                  18\n",
      "FORTALEZA GRANJA LISBOA                    18\n",
      "FORTALEZA COCÓ                             18\n",
      "FORTALEZA QUINTINO CUNHA                   17\n",
      "FORTALEZA FÁTIMA                           17\n",
      "FORTALEZA MANOEL SÁTIRO                    16\n",
      "FORTALEZA SAPIRANGA-COITÉ                  15\n",
      "FORTALEZA PREFEITO JOSÉ WALTER             14\n",
      "FORTALEZA JARDIM DAS OLIVEIRAS             14\n",
      "FORTALEZA PRESIDENTE KENNEDY               14\n",
      "FORTALEZA CAJAZEIRAS                       14\n",
      "FORTALEZA CARLITO PAMPLONA                 13\n",
      "FORTALEZA ENGENHEIRO LUCIANO CAVALCANTE    13\n",
      "FORTALEZA GENIBAÚ                          13\n",
      "Name: Local, dtype: int64\n"
     ]
    }
   ],
   "source": [
    "frequencia_modelo = dataSet_df['Modelo'].value_counts()\n",
    "print(\"Modelo\")\n",
    "print(frequencia_modelo.head(30))\n",
    "\n",
    "print(\"\\n\\n\\n\")\n",
    "frequencia_local = dataSet_df['Local'].value_counts()\n",
    "print(\"Local\")\n",
    "print(frequencia_local.head(30))"
   ]
  },
  {
   "cell_type": "markdown",
   "id": "abb14569",
   "metadata": {},
   "source": [
    "### Calculando o número ideal de bins k = ⌈1 + 3,3 log10(tamanho_do_dataset)⌉"
   ]
  },
  {
   "cell_type": "code",
   "execution_count": 29,
   "id": "56739f79",
   "metadata": {},
   "outputs": [],
   "source": [
    "mod_df = pd.read_csv('./modelos.csv')"
   ]
  },
  {
   "cell_type": "code",
   "execution_count": 30,
   "id": "96a79dc4",
   "metadata": {},
   "outputs": [
    {
     "data": {
      "text/plain": [
       "14"
      ]
     },
     "execution_count": 30,
     "metadata": {},
     "output_type": "execute_result"
    }
   ],
   "source": [
    "k = math.ceil(1 + 3.3 * math.log10(mod_df.size))\n",
    "k"
   ]
  },
  {
   "cell_type": "code",
   "execution_count": 31,
   "id": "5d4c42ad",
   "metadata": {},
   "outputs": [
    {
     "data": {
      "image/png": "[encoded data removed]",
      "text/plain": [
       "<Figure size 640x480 with 1 Axes>"
      ]
     },
     "metadata": {},
     "output_type": "display_data"
    },
    {
     "data": {
      "image/png": "[encoded data removed]",
      "text/plain": [
       "<Figure size 640x480 with 1 Axes>"
      ]
     },
     "metadata": {},
     "output_type": "display_data"
    }
   ],
   "source": [
    "import matplotlib.pyplot as plt\n",
    "plt.hist(mod_df['Valor'], bins=k)\n",
    "plt.show()\n",
    "plt.hist(mod_df['Modelo'], bins=k)\n",
    "plt.show()"
   ]
  },
  {
   "cell_type": "markdown",
   "id": "8b6cc049",
   "metadata": {},
   "source": [
    "### Calculando o número ideal de bins k = sqrt(tamanho_do_dataset)"
   ]
  },
  {
   "cell_type": "code",
   "execution_count": 32,
   "id": "c0bac518",
   "metadata": {},
   "outputs": [
    {
     "data": {
      "text/plain": [
       "65"
      ]
     },
     "execution_count": 32,
     "metadata": {},
     "output_type": "execute_result"
    }
   ],
   "source": [
    "k = int(math.sqrt(mod_df.size))\n",
    "k"
   ]
  },
  {
   "cell_type": "code",
   "execution_count": 33,
   "id": "badc443e",
   "metadata": {},
   "outputs": [
    {
     "data": {
      "image/png": "[encoded data removed]",
      "text/plain": [
       "<Figure size 640x480 with 1 Axes>"
      ]
     },
     "metadata": {},
     "output_type": "display_data"
    },
    {
     "data": {
      "image/png": "[encoded data removed]",
      "text/plain": [
       "<Figure size 640x480 with 1 Axes>"
      ]
     },
     "metadata": {},
     "output_type": "display_data"
    }
   ],
   "source": [
    "import matplotlib.pyplot as plt\n",
    "plt.hist(mod_df['Valor'], bins=k)\n",
    "plt.show()\n",
    "plt.hist(mod_df['Modelo'], bins=k)\n",
    "plt.show()"
   ]
  },
  {
   "cell_type": "code",
   "execution_count": 34,
   "id": "b723be65",
   "metadata": {},
   "outputs": [],
   "source": [
    "dataSet_df.to_csv('dataset.csv', index=False)"
   ]
  },
  {
   "cell_type": "markdown",
   "id": "bee1a958",
   "metadata": {},
   "source": [
    "# Correlações"
   ]
  },
  {
   "cell_type": "code",
   "execution_count": 35,
   "id": "65d84928",
   "metadata": {},
   "outputs": [],
   "source": [
    "dataSet_df = pd.read_csv('./finalDataset.csv')"
   ]
  },
  {
   "cell_type": "code",
   "execution_count": 36,
   "id": "160dd6aa",
   "metadata": {},
   "outputs": [],
   "source": [
    "mod_df = pd.read_csv('./modelos.csv')"
   ]
  },
  {
   "cell_type": "code",
   "execution_count": 37,
   "id": "734e6105",
   "metadata": {},
   "outputs": [
    {
     "data": {
      "text/html": [
       "<div>\n",
       "<style scoped>\n",
       "    .dataframe tbody tr th:only-of-type {\n",
       "        vertical-align: middle;\n",
       "    }\n",
       "\n",
       "    .dataframe tbody tr th {\n",
       "        vertical-align: top;\n",
       "    }\n",
       "\n",
       "    .dataframe thead th {\n",
       "        text-align: right;\n",
       "    }\n",
       "</style>\n",
       "<table border=\"1\" class=\"dataframe\">\n",
       "  <thead>\n",
       "    <tr style=\"text-align: right;\">\n",
       "      <th></th>\n",
       "      <th>Modelo</th>\n",
       "      <th>Valor</th>\n",
       "      <th>Local</th>\n",
       "    </tr>\n",
       "  </thead>\n",
       "  <tbody>\n",
       "    <tr>\n",
       "      <th>Modelo</th>\n",
       "      <td>1.000000</td>\n",
       "      <td>0.581449</td>\n",
       "      <td>0.144971</td>\n",
       "    </tr>\n",
       "    <tr>\n",
       "      <th>Valor</th>\n",
       "      <td>0.581449</td>\n",
       "      <td>1.000000</td>\n",
       "      <td>0.194045</td>\n",
       "    </tr>\n",
       "    <tr>\n",
       "      <th>Local</th>\n",
       "      <td>0.144971</td>\n",
       "      <td>0.194045</td>\n",
       "      <td>1.000000</td>\n",
       "    </tr>\n",
       "  </tbody>\n",
       "</table>\n",
       "</div>"
      ],
      "text/plain": [
       "          Modelo     Valor     Local\n",
       "Modelo  1.000000  0.581449  0.144971\n",
       "Valor   0.581449  1.000000  0.194045\n",
       "Local   0.144971  0.194045  1.000000"
      ]
     },
     "execution_count": 37,
     "metadata": {},
     "output_type": "execute_result"
    }
   ],
   "source": [
    "mod_df.apply(lambda x: x.factorize()[0]).corr()\n"
   ]
  },
  {
   "cell_type": "code",
   "execution_count": 38,
   "id": "711ec69d",
   "metadata": {},
   "outputs": [
    {
     "data": {
      "image/png": "[encoded data removed]",
      "text/plain": [
       "<Figure size 640x480 with 2 Axes>"
      ]
     },
     "metadata": {},
     "output_type": "display_data"
    },
    {
     "data": {
      "image/png": "[encoded data removed]",
      "text/plain": [
       "<Figure size 640x480 with 2 Axes>"
      ]
     },
     "metadata": {},
     "output_type": "display_data"
    }
   ],
   "source": [
    "import seaborn as sns\n",
    "import pylab as py\n",
    "\n",
    "sns.heatmap(pd.crosstab(mod_df.Modelo,mod_df.Local))\n",
    "py.show()\n",
    "sns.heatmap(pd.crosstab(mod_df.Valor,mod_df.Local))\n",
    "py.show()"
   ]
  },
  {
   "cell_type": "code",
   "execution_count": 39,
   "id": "40131213",
   "metadata": {},
   "outputs": [
    {
     "data": {
      "image/png": "[encoded data removed]",
      "text/plain": [
       "<Figure size 640x480 with 2 Axes>"
      ]
     },
     "metadata": {},
     "output_type": "display_data"
    }
   ],
   "source": [
    "sns.heatmap(pd.crosstab(mod_df.Valor,mod_df.Modelo))\n",
    "py.show()"
   ]
  },
  {
   "cell_type": "markdown",
   "id": "c2c288e9",
   "metadata": {},
   "source": [
    "# QQ-Plot"
   ]
  },
  {
   "cell_type": "code",
   "execution_count": 40,
   "id": "effddb21",
   "metadata": {},
   "outputs": [],
   "source": [
    "import pandas as pd\n",
    "import numpy as np\n",
    "import matplotlib.pyplot as plt\n",
    "import scipy.stats as stats\n",
    "import seaborn as sns\n",
    "import math\n",
    "import statsmodels.api as sm\n",
    "import pylab as py\n",
    "import random"
   ]
  },
  {
   "cell_type": "code",
   "execution_count": 41,
   "id": "deb76ac3",
   "metadata": {},
   "outputs": [
    {
     "data": {
      "text/plain": [
       "0      -1.425418\n",
       "1      -1.388921\n",
       "2      -1.352424\n",
       "3      -1.352424\n",
       "4      -1.352424\n",
       "          ...   \n",
       "1439    3.829370\n",
       "1440    3.903094\n",
       "1441    3.903094\n",
       "1442    3.903094\n",
       "1443    3.903094\n",
       "Name: Valor, Length: 1444, dtype: float64"
      ]
     },
     "execution_count": 41,
     "metadata": {},
     "output_type": "execute_result"
    }
   ],
   "source": [
    "housefly_z_df = stats.zscore(dataSet_df['Valor'])\n",
    "housefly_z_df"
   ]
  },
  {
   "cell_type": "code",
   "execution_count": 42,
   "id": "23312cc0",
   "metadata": {},
   "outputs": [
    {
     "data": {
      "image/png": "[encoded data removed]",
      "text/plain": [
       "<Figure size 640x480 with 1 Axes>"
      ]
     },
     "metadata": {},
     "output_type": "display_data"
    }
   ],
   "source": [
    "sm.qqplot(housefly_z_df, line ='45') \n",
    "py.show() "
   ]
  },
  {
   "cell_type": "markdown",
   "id": "03c23284",
   "metadata": {},
   "source": [
    "# Teste de Normalidade"
   ]
  },
  {
   "cell_type": "code",
   "execution_count": 43,
   "id": "cb3dee92",
   "metadata": {},
   "outputs": [
    {
     "data": {
      "text/html": [
       "<div>\n",
       "<style scoped>\n",
       "    .dataframe tbody tr th:only-of-type {\n",
       "        vertical-align: middle;\n",
       "    }\n",
       "\n",
       "    .dataframe tbody tr th {\n",
       "        vertical-align: top;\n",
       "    }\n",
       "\n",
       "    .dataframe thead th {\n",
       "        text-align: right;\n",
       "    }\n",
       "</style>\n",
       "<table border=\"1\" class=\"dataframe\">\n",
       "  <thead>\n",
       "    <tr style=\"text-align: right;\">\n",
       "      <th></th>\n",
       "      <th>Valor</th>\n",
       "      <th>Fabs</th>\n",
       "    </tr>\n",
       "  </thead>\n",
       "  <tbody>\n",
       "    <tr>\n",
       "      <th>0</th>\n",
       "      <td>200.0</td>\n",
       "      <td>1</td>\n",
       "    </tr>\n",
       "    <tr>\n",
       "      <th>1</th>\n",
       "      <td>250.0</td>\n",
       "      <td>1</td>\n",
       "    </tr>\n",
       "    <tr>\n",
       "      <th>2</th>\n",
       "      <td>300.0</td>\n",
       "      <td>3</td>\n",
       "    </tr>\n",
       "    <tr>\n",
       "      <th>3</th>\n",
       "      <td>350.0</td>\n",
       "      <td>6</td>\n",
       "    </tr>\n",
       "    <tr>\n",
       "      <th>4</th>\n",
       "      <td>380.0</td>\n",
       "      <td>1</td>\n",
       "    </tr>\n",
       "    <tr>\n",
       "      <th>...</th>\n",
       "      <td>...</td>\n",
       "      <td>...</td>\n",
       "    </tr>\n",
       "    <tr>\n",
       "      <th>204</th>\n",
       "      <td>6999.0</td>\n",
       "      <td>1</td>\n",
       "    </tr>\n",
       "    <tr>\n",
       "      <th>205</th>\n",
       "      <td>7190.0</td>\n",
       "      <td>1</td>\n",
       "    </tr>\n",
       "    <tr>\n",
       "      <th>206</th>\n",
       "      <td>7200.0</td>\n",
       "      <td>1</td>\n",
       "    </tr>\n",
       "    <tr>\n",
       "      <th>207</th>\n",
       "      <td>7399.0</td>\n",
       "      <td>1</td>\n",
       "    </tr>\n",
       "    <tr>\n",
       "      <th>208</th>\n",
       "      <td>7500.0</td>\n",
       "      <td>4</td>\n",
       "    </tr>\n",
       "  </tbody>\n",
       "</table>\n",
       "<p>209 rows × 2 columns</p>\n",
       "</div>"
      ],
      "text/plain": [
       "      Valor  Fabs\n",
       "0     200.0     1\n",
       "1     250.0     1\n",
       "2     300.0     3\n",
       "3     350.0     6\n",
       "4     380.0     1\n",
       "..      ...   ...\n",
       "204  6999.0     1\n",
       "205  7190.0     1\n",
       "206  7200.0     1\n",
       "207  7399.0     1\n",
       "208  7500.0     4\n",
       "\n",
       "[209 rows x 2 columns]"
      ]
     },
     "execution_count": 43,
     "metadata": {},
     "output_type": "execute_result"
    }
   ],
   "source": [
    "# Computando a Frequência Absoluta (Fabs) e colocando o resultado em um novo dataframe\n",
    "\n",
    "table_df = dataSet_df.groupby(['Valor']).size().reset_index(name='Fabs')\n",
    "table_df"
   ]
  },
  {
   "cell_type": "code",
   "execution_count": 44,
   "id": "9462d426",
   "metadata": {},
   "outputs": [
    {
     "data": {
      "text/html": [
       "<div>\n",
       "<style scoped>\n",
       "    .dataframe tbody tr th:only-of-type {\n",
       "        vertical-align: middle;\n",
       "    }\n",
       "\n",
       "    .dataframe tbody tr th {\n",
       "        vertical-align: top;\n",
       "    }\n",
       "\n",
       "    .dataframe thead th {\n",
       "        text-align: right;\n",
       "    }\n",
       "</style>\n",
       "<table border=\"1\" class=\"dataframe\">\n",
       "  <thead>\n",
       "    <tr style=\"text-align: right;\">\n",
       "      <th></th>\n",
       "      <th>Xi</th>\n",
       "      <th>Fabs</th>\n",
       "    </tr>\n",
       "  </thead>\n",
       "  <tbody>\n",
       "    <tr>\n",
       "      <th>0</th>\n",
       "      <td>200.0</td>\n",
       "      <td>1</td>\n",
       "    </tr>\n",
       "    <tr>\n",
       "      <th>1</th>\n",
       "      <td>250.0</td>\n",
       "      <td>1</td>\n",
       "    </tr>\n",
       "    <tr>\n",
       "      <th>2</th>\n",
       "      <td>300.0</td>\n",
       "      <td>3</td>\n",
       "    </tr>\n",
       "    <tr>\n",
       "      <th>3</th>\n",
       "      <td>350.0</td>\n",
       "      <td>6</td>\n",
       "    </tr>\n",
       "    <tr>\n",
       "      <th>4</th>\n",
       "      <td>380.0</td>\n",
       "      <td>1</td>\n",
       "    </tr>\n",
       "    <tr>\n",
       "      <th>...</th>\n",
       "      <td>...</td>\n",
       "      <td>...</td>\n",
       "    </tr>\n",
       "    <tr>\n",
       "      <th>204</th>\n",
       "      <td>6999.0</td>\n",
       "      <td>1</td>\n",
       "    </tr>\n",
       "    <tr>\n",
       "      <th>205</th>\n",
       "      <td>7190.0</td>\n",
       "      <td>1</td>\n",
       "    </tr>\n",
       "    <tr>\n",
       "      <th>206</th>\n",
       "      <td>7200.0</td>\n",
       "      <td>1</td>\n",
       "    </tr>\n",
       "    <tr>\n",
       "      <th>207</th>\n",
       "      <td>7399.0</td>\n",
       "      <td>1</td>\n",
       "    </tr>\n",
       "    <tr>\n",
       "      <th>208</th>\n",
       "      <td>7500.0</td>\n",
       "      <td>4</td>\n",
       "    </tr>\n",
       "  </tbody>\n",
       "</table>\n",
       "<p>209 rows × 2 columns</p>\n",
       "</div>"
      ],
      "text/plain": [
       "         Xi  Fabs\n",
       "0     200.0     1\n",
       "1     250.0     1\n",
       "2     300.0     3\n",
       "3     350.0     6\n",
       "4     380.0     1\n",
       "..      ...   ...\n",
       "204  6999.0     1\n",
       "205  7190.0     1\n",
       "206  7200.0     1\n",
       "207  7399.0     1\n",
       "208  7500.0     4\n",
       "\n",
       "[209 rows x 2 columns]"
      ]
     },
     "execution_count": 44,
     "metadata": {},
     "output_type": "execute_result"
    }
   ],
   "source": [
    "# Renomeando a coluna de 0 para X_i (lê-se: x índice i)\n",
    "\n",
    "newcols = {\n",
    "    'Valor': 'Xi'\n",
    "}\n",
    "table_df.rename(columns=newcols, inplace=True)\n",
    "table_df"
   ]
  },
  {
   "cell_type": "code",
   "execution_count": 45,
   "id": "c081244e",
   "metadata": {},
   "outputs": [
    {
     "data": {
      "text/html": [
       "<div>\n",
       "<style scoped>\n",
       "    .dataframe tbody tr th:only-of-type {\n",
       "        vertical-align: middle;\n",
       "    }\n",
       "\n",
       "    .dataframe tbody tr th {\n",
       "        vertical-align: top;\n",
       "    }\n",
       "\n",
       "    .dataframe thead th {\n",
       "        text-align: right;\n",
       "    }\n",
       "</style>\n",
       "<table border=\"1\" class=\"dataframe\">\n",
       "  <thead>\n",
       "    <tr style=\"text-align: right;\">\n",
       "      <th></th>\n",
       "      <th>Xi</th>\n",
       "      <th>Fabs</th>\n",
       "      <th>Fac</th>\n",
       "    </tr>\n",
       "  </thead>\n",
       "  <tbody>\n",
       "    <tr>\n",
       "      <th>0</th>\n",
       "      <td>200.0</td>\n",
       "      <td>1</td>\n",
       "      <td>1</td>\n",
       "    </tr>\n",
       "    <tr>\n",
       "      <th>1</th>\n",
       "      <td>250.0</td>\n",
       "      <td>1</td>\n",
       "      <td>2</td>\n",
       "    </tr>\n",
       "    <tr>\n",
       "      <th>2</th>\n",
       "      <td>300.0</td>\n",
       "      <td>3</td>\n",
       "      <td>5</td>\n",
       "    </tr>\n",
       "    <tr>\n",
       "      <th>3</th>\n",
       "      <td>350.0</td>\n",
       "      <td>6</td>\n",
       "      <td>11</td>\n",
       "    </tr>\n",
       "    <tr>\n",
       "      <th>4</th>\n",
       "      <td>380.0</td>\n",
       "      <td>1</td>\n",
       "      <td>12</td>\n",
       "    </tr>\n",
       "    <tr>\n",
       "      <th>...</th>\n",
       "      <td>...</td>\n",
       "      <td>...</td>\n",
       "      <td>...</td>\n",
       "    </tr>\n",
       "    <tr>\n",
       "      <th>204</th>\n",
       "      <td>6999.0</td>\n",
       "      <td>1</td>\n",
       "      <td>1437</td>\n",
       "    </tr>\n",
       "    <tr>\n",
       "      <th>205</th>\n",
       "      <td>7190.0</td>\n",
       "      <td>1</td>\n",
       "      <td>1438</td>\n",
       "    </tr>\n",
       "    <tr>\n",
       "      <th>206</th>\n",
       "      <td>7200.0</td>\n",
       "      <td>1</td>\n",
       "      <td>1439</td>\n",
       "    </tr>\n",
       "    <tr>\n",
       "      <th>207</th>\n",
       "      <td>7399.0</td>\n",
       "      <td>1</td>\n",
       "      <td>1440</td>\n",
       "    </tr>\n",
       "    <tr>\n",
       "      <th>208</th>\n",
       "      <td>7500.0</td>\n",
       "      <td>4</td>\n",
       "      <td>1444</td>\n",
       "    </tr>\n",
       "  </tbody>\n",
       "</table>\n",
       "<p>209 rows × 3 columns</p>\n",
       "</div>"
      ],
      "text/plain": [
       "         Xi  Fabs   Fac\n",
       "0     200.0     1     1\n",
       "1     250.0     1     2\n",
       "2     300.0     3     5\n",
       "3     350.0     6    11\n",
       "4     380.0     1    12\n",
       "..      ...   ...   ...\n",
       "204  6999.0     1  1437\n",
       "205  7190.0     1  1438\n",
       "206  7200.0     1  1439\n",
       "207  7399.0     1  1440\n",
       "208  7500.0     4  1444\n",
       "\n",
       "[209 rows x 3 columns]"
      ]
     },
     "execution_count": 45,
     "metadata": {},
     "output_type": "execute_result"
    }
   ],
   "source": [
    "# Calculando a Frequência Acumulada (Fac)\n",
    "\n",
    "table_df['Fac'] = table_df['Fabs'].cumsum()\n",
    "table_df"
   ]
  },
  {
   "cell_type": "code",
   "execution_count": 46,
   "id": "aa18f86a",
   "metadata": {},
   "outputs": [
    {
     "data": {
      "text/html": [
       "<div>\n",
       "<style scoped>\n",
       "    .dataframe tbody tr th:only-of-type {\n",
       "        vertical-align: middle;\n",
       "    }\n",
       "\n",
       "    .dataframe tbody tr th {\n",
       "        vertical-align: top;\n",
       "    }\n",
       "\n",
       "    .dataframe thead th {\n",
       "        text-align: right;\n",
       "    }\n",
       "</style>\n",
       "<table border=\"1\" class=\"dataframe\">\n",
       "  <thead>\n",
       "    <tr style=\"text-align: right;\">\n",
       "      <th></th>\n",
       "      <th>Xi</th>\n",
       "      <th>Fabs</th>\n",
       "      <th>Fac</th>\n",
       "      <th>Frac</th>\n",
       "    </tr>\n",
       "  </thead>\n",
       "  <tbody>\n",
       "    <tr>\n",
       "      <th>0</th>\n",
       "      <td>200.0</td>\n",
       "      <td>1</td>\n",
       "      <td>1</td>\n",
       "      <td>0.000693</td>\n",
       "    </tr>\n",
       "    <tr>\n",
       "      <th>1</th>\n",
       "      <td>250.0</td>\n",
       "      <td>1</td>\n",
       "      <td>2</td>\n",
       "      <td>0.001385</td>\n",
       "    </tr>\n",
       "    <tr>\n",
       "      <th>2</th>\n",
       "      <td>300.0</td>\n",
       "      <td>3</td>\n",
       "      <td>5</td>\n",
       "      <td>0.003463</td>\n",
       "    </tr>\n",
       "    <tr>\n",
       "      <th>3</th>\n",
       "      <td>350.0</td>\n",
       "      <td>6</td>\n",
       "      <td>11</td>\n",
       "      <td>0.007618</td>\n",
       "    </tr>\n",
       "    <tr>\n",
       "      <th>4</th>\n",
       "      <td>380.0</td>\n",
       "      <td>1</td>\n",
       "      <td>12</td>\n",
       "      <td>0.008310</td>\n",
       "    </tr>\n",
       "    <tr>\n",
       "      <th>...</th>\n",
       "      <td>...</td>\n",
       "      <td>...</td>\n",
       "      <td>...</td>\n",
       "      <td>...</td>\n",
       "    </tr>\n",
       "    <tr>\n",
       "      <th>204</th>\n",
       "      <td>6999.0</td>\n",
       "      <td>1</td>\n",
       "      <td>1437</td>\n",
       "      <td>0.995152</td>\n",
       "    </tr>\n",
       "    <tr>\n",
       "      <th>205</th>\n",
       "      <td>7190.0</td>\n",
       "      <td>1</td>\n",
       "      <td>1438</td>\n",
       "      <td>0.995845</td>\n",
       "    </tr>\n",
       "    <tr>\n",
       "      <th>206</th>\n",
       "      <td>7200.0</td>\n",
       "      <td>1</td>\n",
       "      <td>1439</td>\n",
       "      <td>0.996537</td>\n",
       "    </tr>\n",
       "    <tr>\n",
       "      <th>207</th>\n",
       "      <td>7399.0</td>\n",
       "      <td>1</td>\n",
       "      <td>1440</td>\n",
       "      <td>0.997230</td>\n",
       "    </tr>\n",
       "    <tr>\n",
       "      <th>208</th>\n",
       "      <td>7500.0</td>\n",
       "      <td>4</td>\n",
       "      <td>1444</td>\n",
       "      <td>1.000000</td>\n",
       "    </tr>\n",
       "  </tbody>\n",
       "</table>\n",
       "<p>209 rows × 4 columns</p>\n",
       "</div>"
      ],
      "text/plain": [
       "         Xi  Fabs   Fac      Frac\n",
       "0     200.0     1     1  0.000693\n",
       "1     250.0     1     2  0.001385\n",
       "2     300.0     3     5  0.003463\n",
       "3     350.0     6    11  0.007618\n",
       "4     380.0     1    12  0.008310\n",
       "..      ...   ...   ...       ...\n",
       "204  6999.0     1  1437  0.995152\n",
       "205  7190.0     1  1438  0.995845\n",
       "206  7200.0     1  1439  0.996537\n",
       "207  7399.0     1  1440  0.997230\n",
       "208  7500.0     4  1444  1.000000\n",
       "\n",
       "[209 rows x 4 columns]"
      ]
     },
     "execution_count": 46,
     "metadata": {},
     "output_type": "execute_result"
    }
   ],
   "source": [
    "# Calculando a coluna Fracionária: Total acumulado dividido pelo valor máximo total\n",
    "\n",
    "table_df['Frac'] = table_df['Fac']/table_df['Fac'].max()\n",
    "table_df"
   ]
  },
  {
   "cell_type": "code",
   "execution_count": 47,
   "id": "c5010b76",
   "metadata": {},
   "outputs": [
    {
     "data": {
      "text/plain": [
       "2152.8060941828253"
      ]
     },
     "execution_count": 47,
     "metadata": {},
     "output_type": "execute_result"
    }
   ],
   "source": [
    "# Calculando a média \n",
    "\n",
    "mean = dataSet_df['Valor'].mean()\n",
    "mean"
   ]
  },
  {
   "cell_type": "code",
   "execution_count": 48,
   "id": "5c89a52a",
   "metadata": {},
   "outputs": [
    {
     "data": {
      "text/plain": [
       "1370.4632320292249"
      ]
     },
     "execution_count": 48,
     "metadata": {},
     "output_type": "execute_result"
    }
   ],
   "source": [
    "# Calculando o desvio padrão\n",
    "\n",
    "std = dataSet_df['Valor'].std()\n",
    "std"
   ]
  },
  {
   "cell_type": "code",
   "execution_count": 49,
   "id": "0c9c7f56",
   "metadata": {},
   "outputs": [
    {
     "data": {
      "text/html": [
       "<div>\n",
       "<style scoped>\n",
       "    .dataframe tbody tr th:only-of-type {\n",
       "        vertical-align: middle;\n",
       "    }\n",
       "\n",
       "    .dataframe tbody tr th {\n",
       "        vertical-align: top;\n",
       "    }\n",
       "\n",
       "    .dataframe thead th {\n",
       "        text-align: right;\n",
       "    }\n",
       "</style>\n",
       "<table border=\"1\" class=\"dataframe\">\n",
       "  <thead>\n",
       "    <tr style=\"text-align: right;\">\n",
       "      <th></th>\n",
       "      <th>Xi</th>\n",
       "      <th>Fabs</th>\n",
       "      <th>Fac</th>\n",
       "      <th>Frac</th>\n",
       "      <th>Zi</th>\n",
       "    </tr>\n",
       "  </thead>\n",
       "  <tbody>\n",
       "    <tr>\n",
       "      <th>0</th>\n",
       "      <td>200.0</td>\n",
       "      <td>1</td>\n",
       "      <td>1</td>\n",
       "      <td>0.000693</td>\n",
       "      <td>-1.424924</td>\n",
       "    </tr>\n",
       "    <tr>\n",
       "      <th>1</th>\n",
       "      <td>250.0</td>\n",
       "      <td>1</td>\n",
       "      <td>2</td>\n",
       "      <td>0.001385</td>\n",
       "      <td>-1.388440</td>\n",
       "    </tr>\n",
       "    <tr>\n",
       "      <th>2</th>\n",
       "      <td>300.0</td>\n",
       "      <td>3</td>\n",
       "      <td>5</td>\n",
       "      <td>0.003463</td>\n",
       "      <td>-1.351956</td>\n",
       "    </tr>\n",
       "    <tr>\n",
       "      <th>3</th>\n",
       "      <td>350.0</td>\n",
       "      <td>6</td>\n",
       "      <td>11</td>\n",
       "      <td>0.007618</td>\n",
       "      <td>-1.315472</td>\n",
       "    </tr>\n",
       "    <tr>\n",
       "      <th>4</th>\n",
       "      <td>380.0</td>\n",
       "      <td>1</td>\n",
       "      <td>12</td>\n",
       "      <td>0.008310</td>\n",
       "      <td>-1.293582</td>\n",
       "    </tr>\n",
       "    <tr>\n",
       "      <th>...</th>\n",
       "      <td>...</td>\n",
       "      <td>...</td>\n",
       "      <td>...</td>\n",
       "      <td>...</td>\n",
       "      <td>...</td>\n",
       "    </tr>\n",
       "    <tr>\n",
       "      <th>204</th>\n",
       "      <td>6999.0</td>\n",
       "      <td>1</td>\n",
       "      <td>1437</td>\n",
       "      <td>0.995152</td>\n",
       "      <td>3.536172</td>\n",
       "    </tr>\n",
       "    <tr>\n",
       "      <th>205</th>\n",
       "      <td>7190.0</td>\n",
       "      <td>1</td>\n",
       "      <td>1438</td>\n",
       "      <td>0.995845</td>\n",
       "      <td>3.675541</td>\n",
       "    </tr>\n",
       "    <tr>\n",
       "      <th>206</th>\n",
       "      <td>7200.0</td>\n",
       "      <td>1</td>\n",
       "      <td>1439</td>\n",
       "      <td>0.996537</td>\n",
       "      <td>3.682838</td>\n",
       "    </tr>\n",
       "    <tr>\n",
       "      <th>207</th>\n",
       "      <td>7399.0</td>\n",
       "      <td>1</td>\n",
       "      <td>1440</td>\n",
       "      <td>0.997230</td>\n",
       "      <td>3.828044</td>\n",
       "    </tr>\n",
       "    <tr>\n",
       "      <th>208</th>\n",
       "      <td>7500.0</td>\n",
       "      <td>4</td>\n",
       "      <td>1444</td>\n",
       "      <td>1.000000</td>\n",
       "      <td>3.901742</td>\n",
       "    </tr>\n",
       "  </tbody>\n",
       "</table>\n",
       "<p>209 rows × 5 columns</p>\n",
       "</div>"
      ],
      "text/plain": [
       "         Xi  Fabs   Fac      Frac        Zi\n",
       "0     200.0     1     1  0.000693 -1.424924\n",
       "1     250.0     1     2  0.001385 -1.388440\n",
       "2     300.0     3     5  0.003463 -1.351956\n",
       "3     350.0     6    11  0.007618 -1.315472\n",
       "4     380.0     1    12  0.008310 -1.293582\n",
       "..      ...   ...   ...       ...       ...\n",
       "204  6999.0     1  1437  0.995152  3.536172\n",
       "205  7190.0     1  1438  0.995845  3.675541\n",
       "206  7200.0     1  1439  0.996537  3.682838\n",
       "207  7399.0     1  1440  0.997230  3.828044\n",
       "208  7500.0     4  1444  1.000000  3.901742\n",
       "\n",
       "[209 rows x 5 columns]"
      ]
     },
     "execution_count": 49,
     "metadata": {},
     "output_type": "execute_result"
    }
   ],
   "source": [
    "# Agora vamos normalizar os dados de X_i para Z_i\n",
    "# A normalização Z é dada por subtrair de cada elemento a média e dividir pelo desvio padrão\n",
    "\n",
    "table_df['Zi'] = table_df['Xi'].apply(lambda x: (x - mean)/std)\n",
    "table_df"
   ]
  },
  {
   "cell_type": "code",
   "execution_count": 50,
   "id": "628dd545",
   "metadata": {},
   "outputs": [],
   "source": [
    "import scipy.special as scsp\n",
    "def zScoreToPvalue(z):\n",
    "    # Retornar p-value a partir do z-score\n",
    "    return 0.5 * (1 + scsp.erf(z / np.sqrt(2)))"
   ]
  },
  {
   "cell_type": "code",
   "execution_count": 51,
   "id": "bf3ceacc",
   "metadata": {},
   "outputs": [
    {
     "data": {
      "text/html": [
       "<div>\n",
       "<style scoped>\n",
       "    .dataframe tbody tr th:only-of-type {\n",
       "        vertical-align: middle;\n",
       "    }\n",
       "\n",
       "    .dataframe tbody tr th {\n",
       "        vertical-align: top;\n",
       "    }\n",
       "\n",
       "    .dataframe thead th {\n",
       "        text-align: right;\n",
       "    }\n",
       "</style>\n",
       "<table border=\"1\" class=\"dataframe\">\n",
       "  <thead>\n",
       "    <tr style=\"text-align: right;\">\n",
       "      <th></th>\n",
       "      <th>Xi</th>\n",
       "      <th>Fabs</th>\n",
       "      <th>Fac</th>\n",
       "      <th>Frac</th>\n",
       "      <th>Zi</th>\n",
       "      <th>FracEsp</th>\n",
       "    </tr>\n",
       "  </thead>\n",
       "  <tbody>\n",
       "    <tr>\n",
       "      <th>0</th>\n",
       "      <td>200.0</td>\n",
       "      <td>1</td>\n",
       "      <td>1</td>\n",
       "      <td>0.000693</td>\n",
       "      <td>-1.424924</td>\n",
       "      <td>0.077090</td>\n",
       "    </tr>\n",
       "    <tr>\n",
       "      <th>1</th>\n",
       "      <td>250.0</td>\n",
       "      <td>1</td>\n",
       "      <td>2</td>\n",
       "      <td>0.001385</td>\n",
       "      <td>-1.388440</td>\n",
       "      <td>0.082502</td>\n",
       "    </tr>\n",
       "    <tr>\n",
       "      <th>2</th>\n",
       "      <td>300.0</td>\n",
       "      <td>3</td>\n",
       "      <td>5</td>\n",
       "      <td>0.003463</td>\n",
       "      <td>-1.351956</td>\n",
       "      <td>0.088195</td>\n",
       "    </tr>\n",
       "    <tr>\n",
       "      <th>3</th>\n",
       "      <td>350.0</td>\n",
       "      <td>6</td>\n",
       "      <td>11</td>\n",
       "      <td>0.007618</td>\n",
       "      <td>-1.315472</td>\n",
       "      <td>0.094176</td>\n",
       "    </tr>\n",
       "    <tr>\n",
       "      <th>4</th>\n",
       "      <td>380.0</td>\n",
       "      <td>1</td>\n",
       "      <td>12</td>\n",
       "      <td>0.008310</td>\n",
       "      <td>-1.293582</td>\n",
       "      <td>0.097905</td>\n",
       "    </tr>\n",
       "    <tr>\n",
       "      <th>...</th>\n",
       "      <td>...</td>\n",
       "      <td>...</td>\n",
       "      <td>...</td>\n",
       "      <td>...</td>\n",
       "      <td>...</td>\n",
       "      <td>...</td>\n",
       "    </tr>\n",
       "    <tr>\n",
       "      <th>204</th>\n",
       "      <td>6999.0</td>\n",
       "      <td>1</td>\n",
       "      <td>1437</td>\n",
       "      <td>0.995152</td>\n",
       "      <td>3.536172</td>\n",
       "      <td>0.999797</td>\n",
       "    </tr>\n",
       "    <tr>\n",
       "      <th>205</th>\n",
       "      <td>7190.0</td>\n",
       "      <td>1</td>\n",
       "      <td>1438</td>\n",
       "      <td>0.995845</td>\n",
       "      <td>3.675541</td>\n",
       "      <td>0.999881</td>\n",
       "    </tr>\n",
       "    <tr>\n",
       "      <th>206</th>\n",
       "      <td>7200.0</td>\n",
       "      <td>1</td>\n",
       "      <td>1439</td>\n",
       "      <td>0.996537</td>\n",
       "      <td>3.682838</td>\n",
       "      <td>0.999885</td>\n",
       "    </tr>\n",
       "    <tr>\n",
       "      <th>207</th>\n",
       "      <td>7399.0</td>\n",
       "      <td>1</td>\n",
       "      <td>1440</td>\n",
       "      <td>0.997230</td>\n",
       "      <td>3.828044</td>\n",
       "      <td>0.999935</td>\n",
       "    </tr>\n",
       "    <tr>\n",
       "      <th>208</th>\n",
       "      <td>7500.0</td>\n",
       "      <td>4</td>\n",
       "      <td>1444</td>\n",
       "      <td>1.000000</td>\n",
       "      <td>3.901742</td>\n",
       "      <td>0.999952</td>\n",
       "    </tr>\n",
       "  </tbody>\n",
       "</table>\n",
       "<p>209 rows × 6 columns</p>\n",
       "</div>"
      ],
      "text/plain": [
       "         Xi  Fabs   Fac      Frac        Zi   FracEsp\n",
       "0     200.0     1     1  0.000693 -1.424924  0.077090\n",
       "1     250.0     1     2  0.001385 -1.388440  0.082502\n",
       "2     300.0     3     5  0.003463 -1.351956  0.088195\n",
       "3     350.0     6    11  0.007618 -1.315472  0.094176\n",
       "4     380.0     1    12  0.008310 -1.293582  0.097905\n",
       "..      ...   ...   ...       ...       ...       ...\n",
       "204  6999.0     1  1437  0.995152  3.536172  0.999797\n",
       "205  7190.0     1  1438  0.995845  3.675541  0.999881\n",
       "206  7200.0     1  1439  0.996537  3.682838  0.999885\n",
       "207  7399.0     1  1440  0.997230  3.828044  0.999935\n",
       "208  7500.0     4  1444  1.000000  3.901742  0.999952\n",
       "\n",
       "[209 rows x 6 columns]"
      ]
     },
     "execution_count": 51,
     "metadata": {},
     "output_type": "execute_result"
    }
   ],
   "source": [
    "table_df['FracEsp'] = table_df['Zi'].apply(lambda x: zScoreToPvalue(x))\n",
    "table_df"
   ]
  },
  {
   "cell_type": "code",
   "execution_count": 52,
   "id": "3bae4f54",
   "metadata": {},
   "outputs": [
    {
     "data": {
      "text/html": [
       "<div>\n",
       "<style scoped>\n",
       "    .dataframe tbody tr th:only-of-type {\n",
       "        vertical-align: middle;\n",
       "    }\n",
       "\n",
       "    .dataframe tbody tr th {\n",
       "        vertical-align: top;\n",
       "    }\n",
       "\n",
       "    .dataframe thead th {\n",
       "        text-align: right;\n",
       "    }\n",
       "</style>\n",
       "<table border=\"1\" class=\"dataframe\">\n",
       "  <thead>\n",
       "    <tr style=\"text-align: right;\">\n",
       "      <th></th>\n",
       "      <th>Xi</th>\n",
       "      <th>Fabs</th>\n",
       "      <th>Fac</th>\n",
       "      <th>Frac</th>\n",
       "      <th>Zi</th>\n",
       "      <th>FracEsp</th>\n",
       "      <th>D_negativo</th>\n",
       "    </tr>\n",
       "  </thead>\n",
       "  <tbody>\n",
       "    <tr>\n",
       "      <th>0</th>\n",
       "      <td>200.0</td>\n",
       "      <td>1</td>\n",
       "      <td>1</td>\n",
       "      <td>0.000693</td>\n",
       "      <td>-1.424924</td>\n",
       "      <td>0.077090</td>\n",
       "      <td>0.076397</td>\n",
       "    </tr>\n",
       "    <tr>\n",
       "      <th>1</th>\n",
       "      <td>250.0</td>\n",
       "      <td>1</td>\n",
       "      <td>2</td>\n",
       "      <td>0.001385</td>\n",
       "      <td>-1.388440</td>\n",
       "      <td>0.082502</td>\n",
       "      <td>0.081116</td>\n",
       "    </tr>\n",
       "    <tr>\n",
       "      <th>2</th>\n",
       "      <td>300.0</td>\n",
       "      <td>3</td>\n",
       "      <td>5</td>\n",
       "      <td>0.003463</td>\n",
       "      <td>-1.351956</td>\n",
       "      <td>0.088195</td>\n",
       "      <td>0.084732</td>\n",
       "    </tr>\n",
       "    <tr>\n",
       "      <th>3</th>\n",
       "      <td>350.0</td>\n",
       "      <td>6</td>\n",
       "      <td>11</td>\n",
       "      <td>0.007618</td>\n",
       "      <td>-1.315472</td>\n",
       "      <td>0.094176</td>\n",
       "      <td>0.086558</td>\n",
       "    </tr>\n",
       "    <tr>\n",
       "      <th>4</th>\n",
       "      <td>380.0</td>\n",
       "      <td>1</td>\n",
       "      <td>12</td>\n",
       "      <td>0.008310</td>\n",
       "      <td>-1.293582</td>\n",
       "      <td>0.097905</td>\n",
       "      <td>0.089595</td>\n",
       "    </tr>\n",
       "    <tr>\n",
       "      <th>...</th>\n",
       "      <td>...</td>\n",
       "      <td>...</td>\n",
       "      <td>...</td>\n",
       "      <td>...</td>\n",
       "      <td>...</td>\n",
       "      <td>...</td>\n",
       "      <td>...</td>\n",
       "    </tr>\n",
       "    <tr>\n",
       "      <th>204</th>\n",
       "      <td>6999.0</td>\n",
       "      <td>1</td>\n",
       "      <td>1437</td>\n",
       "      <td>0.995152</td>\n",
       "      <td>3.536172</td>\n",
       "      <td>0.999797</td>\n",
       "      <td>0.004645</td>\n",
       "    </tr>\n",
       "    <tr>\n",
       "      <th>205</th>\n",
       "      <td>7190.0</td>\n",
       "      <td>1</td>\n",
       "      <td>1438</td>\n",
       "      <td>0.995845</td>\n",
       "      <td>3.675541</td>\n",
       "      <td>0.999881</td>\n",
       "      <td>0.004036</td>\n",
       "    </tr>\n",
       "    <tr>\n",
       "      <th>206</th>\n",
       "      <td>7200.0</td>\n",
       "      <td>1</td>\n",
       "      <td>1439</td>\n",
       "      <td>0.996537</td>\n",
       "      <td>3.682838</td>\n",
       "      <td>0.999885</td>\n",
       "      <td>0.003347</td>\n",
       "    </tr>\n",
       "    <tr>\n",
       "      <th>207</th>\n",
       "      <td>7399.0</td>\n",
       "      <td>1</td>\n",
       "      <td>1440</td>\n",
       "      <td>0.997230</td>\n",
       "      <td>3.828044</td>\n",
       "      <td>0.999935</td>\n",
       "      <td>0.002706</td>\n",
       "    </tr>\n",
       "    <tr>\n",
       "      <th>208</th>\n",
       "      <td>7500.0</td>\n",
       "      <td>4</td>\n",
       "      <td>1444</td>\n",
       "      <td>1.000000</td>\n",
       "      <td>3.901742</td>\n",
       "      <td>0.999952</td>\n",
       "      <td>0.000048</td>\n",
       "    </tr>\n",
       "  </tbody>\n",
       "</table>\n",
       "<p>209 rows × 7 columns</p>\n",
       "</div>"
      ],
      "text/plain": [
       "         Xi  Fabs   Fac      Frac        Zi   FracEsp  D_negativo\n",
       "0     200.0     1     1  0.000693 -1.424924  0.077090    0.076397\n",
       "1     250.0     1     2  0.001385 -1.388440  0.082502    0.081116\n",
       "2     300.0     3     5  0.003463 -1.351956  0.088195    0.084732\n",
       "3     350.0     6    11  0.007618 -1.315472  0.094176    0.086558\n",
       "4     380.0     1    12  0.008310 -1.293582  0.097905    0.089595\n",
       "..      ...   ...   ...       ...       ...       ...         ...\n",
       "204  6999.0     1  1437  0.995152  3.536172  0.999797    0.004645\n",
       "205  7190.0     1  1438  0.995845  3.675541  0.999881    0.004036\n",
       "206  7200.0     1  1439  0.996537  3.682838  0.999885    0.003347\n",
       "207  7399.0     1  1440  0.997230  3.828044  0.999935    0.002706\n",
       "208  7500.0     4  1444  1.000000  3.901742  0.999952    0.000048\n",
       "\n",
       "[209 rows x 7 columns]"
      ]
     },
     "execution_count": 52,
     "metadata": {},
     "output_type": "execute_result"
    }
   ],
   "source": [
    "# Result1 = FracEsp - Frac\n",
    "table_df['D_negativo'] = abs(table_df['FracEsp']-table_df['Frac'])\n",
    "table_df"
   ]
  },
  {
   "cell_type": "code",
   "execution_count": 53,
   "id": "fd771c49",
   "metadata": {},
   "outputs": [
    {
     "data": {
      "text/html": [
       "<div>\n",
       "<style scoped>\n",
       "    .dataframe tbody tr th:only-of-type {\n",
       "        vertical-align: middle;\n",
       "    }\n",
       "\n",
       "    .dataframe tbody tr th {\n",
       "        vertical-align: top;\n",
       "    }\n",
       "\n",
       "    .dataframe thead th {\n",
       "        text-align: right;\n",
       "    }\n",
       "</style>\n",
       "<table border=\"1\" class=\"dataframe\">\n",
       "  <thead>\n",
       "    <tr style=\"text-align: right;\">\n",
       "      <th></th>\n",
       "      <th>Xi</th>\n",
       "      <th>Fabs</th>\n",
       "      <th>Fac</th>\n",
       "      <th>Frac</th>\n",
       "      <th>Zi</th>\n",
       "      <th>FracEsp</th>\n",
       "      <th>D_negativo</th>\n",
       "      <th>D_positivo</th>\n",
       "    </tr>\n",
       "  </thead>\n",
       "  <tbody>\n",
       "    <tr>\n",
       "      <th>0</th>\n",
       "      <td>200.0</td>\n",
       "      <td>1</td>\n",
       "      <td>1</td>\n",
       "      <td>0.000693</td>\n",
       "      <td>-1.424924</td>\n",
       "      <td>0.077090</td>\n",
       "      <td>0.076397</td>\n",
       "      <td>0</td>\n",
       "    </tr>\n",
       "    <tr>\n",
       "      <th>1</th>\n",
       "      <td>250.0</td>\n",
       "      <td>1</td>\n",
       "      <td>2</td>\n",
       "      <td>0.001385</td>\n",
       "      <td>-1.388440</td>\n",
       "      <td>0.082502</td>\n",
       "      <td>0.081116</td>\n",
       "      <td>0</td>\n",
       "    </tr>\n",
       "    <tr>\n",
       "      <th>2</th>\n",
       "      <td>300.0</td>\n",
       "      <td>3</td>\n",
       "      <td>5</td>\n",
       "      <td>0.003463</td>\n",
       "      <td>-1.351956</td>\n",
       "      <td>0.088195</td>\n",
       "      <td>0.084732</td>\n",
       "      <td>0</td>\n",
       "    </tr>\n",
       "    <tr>\n",
       "      <th>3</th>\n",
       "      <td>350.0</td>\n",
       "      <td>6</td>\n",
       "      <td>11</td>\n",
       "      <td>0.007618</td>\n",
       "      <td>-1.315472</td>\n",
       "      <td>0.094176</td>\n",
       "      <td>0.086558</td>\n",
       "      <td>0</td>\n",
       "    </tr>\n",
       "    <tr>\n",
       "      <th>4</th>\n",
       "      <td>380.0</td>\n",
       "      <td>1</td>\n",
       "      <td>12</td>\n",
       "      <td>0.008310</td>\n",
       "      <td>-1.293582</td>\n",
       "      <td>0.097905</td>\n",
       "      <td>0.089595</td>\n",
       "      <td>0</td>\n",
       "    </tr>\n",
       "    <tr>\n",
       "      <th>...</th>\n",
       "      <td>...</td>\n",
       "      <td>...</td>\n",
       "      <td>...</td>\n",
       "      <td>...</td>\n",
       "      <td>...</td>\n",
       "      <td>...</td>\n",
       "      <td>...</td>\n",
       "      <td>...</td>\n",
       "    </tr>\n",
       "    <tr>\n",
       "      <th>204</th>\n",
       "      <td>6999.0</td>\n",
       "      <td>1</td>\n",
       "      <td>1437</td>\n",
       "      <td>0.995152</td>\n",
       "      <td>3.536172</td>\n",
       "      <td>0.999797</td>\n",
       "      <td>0.004645</td>\n",
       "      <td>0</td>\n",
       "    </tr>\n",
       "    <tr>\n",
       "      <th>205</th>\n",
       "      <td>7190.0</td>\n",
       "      <td>1</td>\n",
       "      <td>1438</td>\n",
       "      <td>0.995845</td>\n",
       "      <td>3.675541</td>\n",
       "      <td>0.999881</td>\n",
       "      <td>0.004036</td>\n",
       "      <td>0</td>\n",
       "    </tr>\n",
       "    <tr>\n",
       "      <th>206</th>\n",
       "      <td>7200.0</td>\n",
       "      <td>1</td>\n",
       "      <td>1439</td>\n",
       "      <td>0.996537</td>\n",
       "      <td>3.682838</td>\n",
       "      <td>0.999885</td>\n",
       "      <td>0.003347</td>\n",
       "      <td>0</td>\n",
       "    </tr>\n",
       "    <tr>\n",
       "      <th>207</th>\n",
       "      <td>7399.0</td>\n",
       "      <td>1</td>\n",
       "      <td>1440</td>\n",
       "      <td>0.997230</td>\n",
       "      <td>3.828044</td>\n",
       "      <td>0.999935</td>\n",
       "      <td>0.002706</td>\n",
       "      <td>0</td>\n",
       "    </tr>\n",
       "    <tr>\n",
       "      <th>208</th>\n",
       "      <td>7500.0</td>\n",
       "      <td>4</td>\n",
       "      <td>1444</td>\n",
       "      <td>1.000000</td>\n",
       "      <td>3.901742</td>\n",
       "      <td>0.999952</td>\n",
       "      <td>0.000048</td>\n",
       "      <td>0</td>\n",
       "    </tr>\n",
       "  </tbody>\n",
       "</table>\n",
       "<p>209 rows × 8 columns</p>\n",
       "</div>"
      ],
      "text/plain": [
       "         Xi  Fabs   Fac      Frac        Zi   FracEsp  D_negativo  D_positivo\n",
       "0     200.0     1     1  0.000693 -1.424924  0.077090    0.076397           0\n",
       "1     250.0     1     2  0.001385 -1.388440  0.082502    0.081116           0\n",
       "2     300.0     3     5  0.003463 -1.351956  0.088195    0.084732           0\n",
       "3     350.0     6    11  0.007618 -1.315472  0.094176    0.086558           0\n",
       "4     380.0     1    12  0.008310 -1.293582  0.097905    0.089595           0\n",
       "..      ...   ...   ...       ...       ...       ...         ...         ...\n",
       "204  6999.0     1  1437  0.995152  3.536172  0.999797    0.004645           0\n",
       "205  7190.0     1  1438  0.995845  3.675541  0.999881    0.004036           0\n",
       "206  7200.0     1  1439  0.996537  3.682838  0.999885    0.003347           0\n",
       "207  7399.0     1  1440  0.997230  3.828044  0.999935    0.002706           0\n",
       "208  7500.0     4  1444  1.000000  3.901742  0.999952    0.000048           0\n",
       "\n",
       "[209 rows x 8 columns]"
      ]
     },
     "execution_count": 53,
     "metadata": {},
     "output_type": "execute_result"
    }
   ],
   "source": [
    "# Criando uma coluna de zeros \n",
    "table_df['D_positivo'] = 0\n",
    "table_df"
   ]
  },
  {
   "cell_type": "code",
   "execution_count": 54,
   "id": "d55bf497",
   "metadata": {},
   "outputs": [
    {
     "name": "stderr",
     "output_type": "stream",
     "text": [
      "C:\\Users\\moura\\AppData\\Local\\Temp\\ipykernel_816\\732412863.py:5: SettingWithCopyWarning: \n",
      "A value is trying to be set on a copy of a slice from a DataFrame\n",
      "\n",
      "See the caveats in the documentation: https://pandas.pydata.org/pandas-docs/stable/user_guide/indexing.html#returning-a-view-versus-a-copy\n",
      "  table_df['D_positivo'].iloc[i] = table_df['FracEsp'].iloc[i]\n"
     ]
    }
   ],
   "source": [
    "for i in range(table_df['Frac'].shape[0]):\n",
    "    if i > 0:\n",
    "        table_df['D_positivo'].iloc[i] = table_df['FracEsp'].iloc[i] - table_df['Frac'].iloc[i-1]\n",
    "    else:\n",
    "        table_df['D_positivo'].iloc[i] = table_df['FracEsp'].iloc[i]"
   ]
  },
  {
   "cell_type": "code",
   "execution_count": 55,
   "id": "6c97ccb5",
   "metadata": {},
   "outputs": [
    {
     "data": {
      "text/html": [
       "<div>\n",
       "<style scoped>\n",
       "    .dataframe tbody tr th:only-of-type {\n",
       "        vertical-align: middle;\n",
       "    }\n",
       "\n",
       "    .dataframe tbody tr th {\n",
       "        vertical-align: top;\n",
       "    }\n",
       "\n",
       "    .dataframe thead th {\n",
       "        text-align: right;\n",
       "    }\n",
       "</style>\n",
       "<table border=\"1\" class=\"dataframe\">\n",
       "  <thead>\n",
       "    <tr style=\"text-align: right;\">\n",
       "      <th></th>\n",
       "      <th>Xi</th>\n",
       "      <th>Fabs</th>\n",
       "      <th>Fac</th>\n",
       "      <th>Frac</th>\n",
       "      <th>Zi</th>\n",
       "      <th>FracEsp</th>\n",
       "      <th>D_negativo</th>\n",
       "      <th>D_positivo</th>\n",
       "    </tr>\n",
       "  </thead>\n",
       "  <tbody>\n",
       "    <tr>\n",
       "      <th>0</th>\n",
       "      <td>200.0</td>\n",
       "      <td>1</td>\n",
       "      <td>1</td>\n",
       "      <td>0.000693</td>\n",
       "      <td>-1.424924</td>\n",
       "      <td>0.077090</td>\n",
       "      <td>0.076397</td>\n",
       "      <td>0.077090</td>\n",
       "    </tr>\n",
       "    <tr>\n",
       "      <th>1</th>\n",
       "      <td>250.0</td>\n",
       "      <td>1</td>\n",
       "      <td>2</td>\n",
       "      <td>0.001385</td>\n",
       "      <td>-1.388440</td>\n",
       "      <td>0.082502</td>\n",
       "      <td>0.081116</td>\n",
       "      <td>0.081809</td>\n",
       "    </tr>\n",
       "    <tr>\n",
       "      <th>2</th>\n",
       "      <td>300.0</td>\n",
       "      <td>3</td>\n",
       "      <td>5</td>\n",
       "      <td>0.003463</td>\n",
       "      <td>-1.351956</td>\n",
       "      <td>0.088195</td>\n",
       "      <td>0.084732</td>\n",
       "      <td>0.086810</td>\n",
       "    </tr>\n",
       "    <tr>\n",
       "      <th>3</th>\n",
       "      <td>350.0</td>\n",
       "      <td>6</td>\n",
       "      <td>11</td>\n",
       "      <td>0.007618</td>\n",
       "      <td>-1.315472</td>\n",
       "      <td>0.094176</td>\n",
       "      <td>0.086558</td>\n",
       "      <td>0.090713</td>\n",
       "    </tr>\n",
       "    <tr>\n",
       "      <th>4</th>\n",
       "      <td>380.0</td>\n",
       "      <td>1</td>\n",
       "      <td>12</td>\n",
       "      <td>0.008310</td>\n",
       "      <td>-1.293582</td>\n",
       "      <td>0.097905</td>\n",
       "      <td>0.089595</td>\n",
       "      <td>0.090287</td>\n",
       "    </tr>\n",
       "    <tr>\n",
       "      <th>...</th>\n",
       "      <td>...</td>\n",
       "      <td>...</td>\n",
       "      <td>...</td>\n",
       "      <td>...</td>\n",
       "      <td>...</td>\n",
       "      <td>...</td>\n",
       "      <td>...</td>\n",
       "      <td>...</td>\n",
       "    </tr>\n",
       "    <tr>\n",
       "      <th>204</th>\n",
       "      <td>6999.0</td>\n",
       "      <td>1</td>\n",
       "      <td>1437</td>\n",
       "      <td>0.995152</td>\n",
       "      <td>3.536172</td>\n",
       "      <td>0.999797</td>\n",
       "      <td>0.004645</td>\n",
       "      <td>0.005337</td>\n",
       "    </tr>\n",
       "    <tr>\n",
       "      <th>205</th>\n",
       "      <td>7190.0</td>\n",
       "      <td>1</td>\n",
       "      <td>1438</td>\n",
       "      <td>0.995845</td>\n",
       "      <td>3.675541</td>\n",
       "      <td>0.999881</td>\n",
       "      <td>0.004036</td>\n",
       "      <td>0.004729</td>\n",
       "    </tr>\n",
       "    <tr>\n",
       "      <th>206</th>\n",
       "      <td>7200.0</td>\n",
       "      <td>1</td>\n",
       "      <td>1439</td>\n",
       "      <td>0.996537</td>\n",
       "      <td>3.682838</td>\n",
       "      <td>0.999885</td>\n",
       "      <td>0.003347</td>\n",
       "      <td>0.004040</td>\n",
       "    </tr>\n",
       "    <tr>\n",
       "      <th>207</th>\n",
       "      <td>7399.0</td>\n",
       "      <td>1</td>\n",
       "      <td>1440</td>\n",
       "      <td>0.997230</td>\n",
       "      <td>3.828044</td>\n",
       "      <td>0.999935</td>\n",
       "      <td>0.002706</td>\n",
       "      <td>0.003398</td>\n",
       "    </tr>\n",
       "    <tr>\n",
       "      <th>208</th>\n",
       "      <td>7500.0</td>\n",
       "      <td>4</td>\n",
       "      <td>1444</td>\n",
       "      <td>1.000000</td>\n",
       "      <td>3.901742</td>\n",
       "      <td>0.999952</td>\n",
       "      <td>0.000048</td>\n",
       "      <td>0.002722</td>\n",
       "    </tr>\n",
       "  </tbody>\n",
       "</table>\n",
       "<p>209 rows × 8 columns</p>\n",
       "</div>"
      ],
      "text/plain": [
       "         Xi  Fabs   Fac      Frac        Zi   FracEsp  D_negativo  D_positivo\n",
       "0     200.0     1     1  0.000693 -1.424924  0.077090    0.076397    0.077090\n",
       "1     250.0     1     2  0.001385 -1.388440  0.082502    0.081116    0.081809\n",
       "2     300.0     3     5  0.003463 -1.351956  0.088195    0.084732    0.086810\n",
       "3     350.0     6    11  0.007618 -1.315472  0.094176    0.086558    0.090713\n",
       "4     380.0     1    12  0.008310 -1.293582  0.097905    0.089595    0.090287\n",
       "..      ...   ...   ...       ...       ...       ...         ...         ...\n",
       "204  6999.0     1  1437  0.995152  3.536172  0.999797    0.004645    0.005337\n",
       "205  7190.0     1  1438  0.995845  3.675541  0.999881    0.004036    0.004729\n",
       "206  7200.0     1  1439  0.996537  3.682838  0.999885    0.003347    0.004040\n",
       "207  7399.0     1  1440  0.997230  3.828044  0.999935    0.002706    0.003398\n",
       "208  7500.0     4  1444  1.000000  3.901742  0.999952    0.000048    0.002722\n",
       "\n",
       "[209 rows x 8 columns]"
      ]
     },
     "execution_count": 55,
     "metadata": {},
     "output_type": "execute_result"
    }
   ],
   "source": [
    "table_df"
   ]
  },
  {
   "cell_type": "code",
   "execution_count": 56,
   "id": "c13b59c5",
   "metadata": {},
   "outputs": [
    {
     "data": {
      "text/plain": [
       "0.12125971239059508"
      ]
     },
     "execution_count": 56,
     "metadata": {},
     "output_type": "execute_result"
    }
   ],
   "source": [
    "# Calcular o máximo valor da coluna Result1 e depois o máximo da coluna Result 2\n",
    "# E, por fim, retornar o maior dos dois\n",
    "D = ( table_df[['D_negativo','D_positivo']].max() ).max()\n",
    "D"
   ]
  },
  {
   "cell_type": "code",
   "execution_count": 57,
   "id": "0bbaf1f7",
   "metadata": {},
   "outputs": [],
   "source": [
    "from scipy.stats import ksone\n",
    "\n",
    "def ks_critical_value(n_trials, alpha):\n",
    "    return ksone.ppf(1-alpha/2, n_trials)"
   ]
  },
  {
   "cell_type": "code",
   "execution_count": 58,
   "id": "8a5a5c58",
   "metadata": {},
   "outputs": [
    {
     "data": {
      "text/plain": [
       "0.035621967568563256"
      ]
     },
     "execution_count": 58,
     "metadata": {},
     "output_type": "execute_result"
    }
   ],
   "source": [
    "# n-trials: quantidade de dados\n",
    "# alpha: Um bom valor para o nível de significância do teste é com um alfa = 0,05 para assegurar 95% de confiança\n",
    "p_value = ks_critical_value(dataSet_df.shape[0], 0.05)\n",
    "p_value"
   ]
  },
  {
   "cell_type": "code",
   "execution_count": 59,
   "id": "7ee7b67a",
   "metadata": {},
   "outputs": [
    {
     "name": "stdout",
     "output_type": "stream",
     "text": [
      "Os dados não seguem uma distribuição normal\n"
     ]
    }
   ],
   "source": [
    "if D < p_value:\n",
    "    print('Os dados seguem uma distribuição normal')\n",
    "else:\n",
    "    print('Os dados não seguem uma distribuição normal')"
   ]
  },
  {
   "cell_type": "code",
   "execution_count": 60,
   "id": "eb9d10a6",
   "metadata": {},
   "outputs": [
    {
     "name": "stdout",
     "output_type": "stream",
     "text": [
      "0      -1.425418\n",
      "1      -1.388921\n",
      "2      -1.352424\n",
      "3      -1.352424\n",
      "4      -1.352424\n",
      "          ...   \n",
      "1439    3.829370\n",
      "1440    3.903094\n",
      "1441    3.903094\n",
      "1442    3.903094\n",
      "1443    3.903094\n",
      "Name: Valor, Length: 1444, dtype: float64\n",
      "D = 0.12127502718811023 | p = 2.883255201881088e-19\n",
      "Os dados não seguem uma distribuição normal.\n"
     ]
    }
   ],
   "source": [
    "y_std = stats.zscore(dataSet_df['Valor'])\n",
    "print(y_std)\n",
    "D, p = stats.kstest(y_std, 'norm', alternative='greater')\n",
    "print(\"D = {} | p = {}\".format(D, p))\n",
    "if D < p:\n",
    "    print('Os dados seguem uma distribuição normal.')\n",
    "else:\n",
    "    print('Os dados não seguem uma distribuição normal.')"
   ]
  },
  {
   "cell_type": "markdown",
   "id": "ddba8e94",
   "metadata": {},
   "source": [
    "# Best Fit Distribution"
   ]
  },
  {
   "cell_type": "code",
   "execution_count": 61,
   "id": "ff3bee74",
   "metadata": {},
   "outputs": [],
   "source": [
    "import pandas as pd\n",
    "import numpy as np\n",
    "import scipy\n",
    "from sklearn.preprocessing import StandardScaler\n",
    "import scipy.stats\n",
    "import matplotlib.pyplot as plt\n",
    "import seaborn as sns \n",
    "%matplotlib inline"
   ]
  },
  {
   "cell_type": "code",
   "execution_count": 62,
   "id": "652e8c6b",
   "metadata": {},
   "outputs": [],
   "source": [
    "dist_names = ['beta',\n",
    "              'expon',\n",
    "              'gamma',\n",
    "              'lognorm',\n",
    "              'norm',\n",
    "              'pearson3',\n",
    "              't',\n",
    "              'triang',\n",
    "              'uniform',\n",
    "              'weibull_min', \n",
    "              'weibull_max']"
   ]
  },
  {
   "cell_type": "code",
   "execution_count": 63,
   "id": "56dc6d94",
   "metadata": {},
   "outputs": [],
   "source": [
    "y_std_valor = stats.zscore(dataSet_df['Valor'])"
   ]
  },
  {
   "cell_type": "code",
   "execution_count": 64,
   "id": "d9b4413c",
   "metadata": {},
   "outputs": [],
   "source": [
    "def check_distribution(dist_names, y_std_valor):\n",
    "    \n",
    "    p_values = []\n",
    "    distance = []\n",
    "    D_less_p = []\n",
    "    \n",
    "    for distribution in dist_names:\n",
    "        # Set up distribution and get fitted distribution parameters\n",
    "        dist = getattr(scipy.stats, distribution)\n",
    "        param = dist.fit(y_std_valor)\n",
    "\n",
    "        if distribution != \"norm\":\n",
    "            D, p = scipy.stats.kstest(y_std_valor, distribution, args=param)\n",
    "        else:\n",
    "            D, p = scipy.stats.kstest(y_std_valor, distribution,  alternative='greater')\n",
    "            \n",
    "        #p = np.around(p, 5)\n",
    "        p_values.append(p)    \n",
    "        \n",
    "        #D = np.around(D, 5)\n",
    "        distance.append(D)    \n",
    "        \n",
    "        if D<p: \n",
    "            D_less_p.append(\"yes\") \n",
    "        else: \n",
    "            D_less_p.append(\"no\")\n",
    "\n",
    "    results = pd.DataFrame()\n",
    "    results['Distribution'] = dist_names\n",
    "    results['Distance'] = distance\n",
    "    results['p_value'] = p_values\n",
    "    results['D<p'] = D_less_p\n",
    "    \n",
    "    results.sort_values(['p_value'], ascending=False, inplace=True)\n",
    "\n",
    "\n",
    "    print ('\\nDistributions sorted by goodness of fit:')\n",
    "    print ('----------------------------------------')\n",
    "    print (results)"
   ]
  },
  {
   "cell_type": "code",
   "execution_count": 65,
   "id": "6bcbd6f4",
   "metadata": {},
   "outputs": [
    {
     "name": "stderr",
     "output_type": "stream",
     "text": [
      "E:\\Documents\\anaconda3\\lib\\site-packages\\scipy\\stats\\_continuous_distns.py:709: RuntimeWarning: invalid value encountered in sqrt\n",
      "  sk = 2*(b-a)*np.sqrt(a + b + 1) / (a + b + 2) / np.sqrt(a*b)\n"
     ]
    },
    {
     "name": "stdout",
     "output_type": "stream",
     "text": [
      "\n",
      "Distributions sorted by goodness of fit:\n",
      "----------------------------------------\n",
      "   Distribution  Distance        p_value  D<p\n",
      "0          beta  0.030668   1.295168e-01  yes\n",
      "5      pearson3  0.030725   1.282028e-01  yes\n",
      "2         gamma  0.030734   1.280120e-01  yes\n",
      "3       lognorm  0.036932   3.796015e-02  yes\n",
      "9   weibull_min  0.047285   3.034165e-03   no\n",
      "10  weibull_max  0.054658   3.437364e-04   no\n",
      "6             t  0.100111   4.736739e-13   no\n",
      "4          norm  0.121275   2.883255e-19   no\n",
      "1         expon  0.153048   5.335071e-30   no\n",
      "7        triang  0.209587   4.007692e-56   no\n",
      "8       uniform  0.421840  1.711265e-233   no\n"
     ]
    }
   ],
   "source": [
    "check_distribution(dist_names, y_std_valor)"
   ]
  },
  {
   "cell_type": "code",
   "execution_count": 66,
   "id": "8461be93",
   "metadata": {},
   "outputs": [
    {
     "data": {
      "image/png": "[encoded data removed]",
      "text/plain": [
       "<Figure size 640x480 with 1 Axes>"
      ]
     },
     "metadata": {},
     "output_type": "display_data"
    }
   ],
   "source": [
    "plt.hist(y_std_valor,bins=6)\n",
    "plt.show()"
   ]
  },
  {
   "cell_type": "code",
   "execution_count": null,
   "id": "16582627",
   "metadata": {},
   "outputs": [],
   "source": []
  }
 ],
 "metadata": {
  "kernelspec": {
   "display_name": "Python 3 (ipykernel)",
   "language": "python",
   "name": "python3"
  },
  "language_info": {
   "codemirror_mode": {
    "name": "ipython",
    "version": 3
   },
   "file_extension": ".py",
   "mimetype": "text/x-python",
   "name": "python",
   "nbconvert_exporter": "python",
   "pygments_lexer": "ipython3",
   "version": "3.10.9"
  }
 },
 "nbformat": 4,
 "nbformat_minor": 5
}
