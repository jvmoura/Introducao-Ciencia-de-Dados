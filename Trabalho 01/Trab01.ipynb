{
 "cells": [
  {
   "cell_type": "code",
   "execution_count": 172,
   "id": "8514a221",
   "metadata": {
    "scrolled": true
   },
   "outputs": [],
   "source": [
    "from urllib.request import urlopen\n",
    "from bs4 import BeautifulSoup\n",
    "#Utilizei a biblioteca requests pois a OLX nao permitia o acesso utilizando o urlopen da a urllib.request \n",
    "import requests\n",
    "headers = { 'User-Agent': \"Mozilla/5.0 (Windows NT 10.0; Win64; x64) AppleWebKit/537.36 (KHTML, like Gecko) Chrome/101.0.4951.54 Safari/537.36\" }\n",
    "\n",
    "#lista com os nomes dos produtos\n",
    "products_name = []\n",
    "#lista com os valores dos produtos\n",
    "products_price = []\n",
    "#lista com a localizacao do vendedor\n",
    "seller_location = []\n",
    "\n",
    "#ir da pagina 1 ate a 31, aproximadamente 1500 produtos.\n",
    "#A pagina 1 possui uma url diferente das outras, que mudam apenas o numero, entao\n",
    "#definimos as partes em comum do link como raiz e mudamos o que for necessario\n",
    "for pag in range(1, 31):\n",
    "    root = \"https://www.olx.com.br/celulares/usado-excelente/estado-ce/fortaleza-e-regiao?\"\n",
    "    if pag == 1:\n",
    "        site = requests.get(root + 'q=iphone', headers=headers)\n",
    "        soup = BeautifulSoup(site.content, 'html.parser')\n",
    "    else:\n",
    "        site = requests.get(root + 'o=' + str(pag) + '&q=iphone', headers=headers)\n",
    "        soup = BeautifulSoup(site.content, 'html.parser')\n",
    "    \n",
    "    #Pegamos as Divs que possuem os dados que queremos obter\n",
    "    anuncioTitulo = soup.find_all('div', {'class' : 'sc-12rk7z2-7 kDVQFY'})\n",
    "    anuncioPreco = soup.find_all('div', {'class' : 'sc-1kn4z61-1 dGMPPn'})\n",
    "    anuncioLocal = soup.find_all('div', {'class' : 'sc-1c3ysll-0 lfQETj'})\n",
    "\n",
    "#procuramos o conteudo do anuncio iterando uma variavel e salvamos esse conteudo em outra variavel\n",
    "    for i in anuncioTitulo:\n",
    "        #procuramos todos os h2 que possuem uma das duas classes, pois os anuncios normais e\n",
    "        #os anuncios pagos possuem classes diferentes\n",
    "        nome = i.find('h2', {'class' : ['kgl1mq-0 eFXRHn sc-ifAKCX iUMNkO', 'kgl1mq-0 eFXRHn sc-ifAKCX ghBVzA']})\n",
    "        #substituimos caracteres que podem causar problema no arquivo csv\n",
    "        s = i.text.replace('\\n' , ' ')\n",
    "        s = s.replace(',' , '')\n",
    "        #adicionamos o conteudo a lista\n",
    "        products_name.append(s)\n",
    "\n",
    "    for j in anuncioPreco:\n",
    "        #procuramos pela conteudo com a tag span\n",
    "        preco = j.find('span')\n",
    "        #substituimos caracteres que podem causar problema no arquivo csv\n",
    "        s = preco.text.replace('\\n' , ' ')\n",
    "        s = s.replace(',' , '')\n",
    "        #adicionamos o conteudo a lista\n",
    "        products_price.append(s)\n",
    "\n",
    "    for k in anuncioLocal:\n",
    "        #procuramos pela conteudo com a tag span\n",
    "        local = k.find('span')\n",
    "        #substituimos caracteres que podem causar problema no arquivo csv\n",
    "        s = local.text.replace('\\n' , ' ')\n",
    "        s = s.replace(',' , '')\n",
    "        #adicionamos o conteudo a lista\n",
    "        seller_location.append(s)\n",
    "        \n",
    "#criando o arquivo csv\n",
    "f = open(\"dataset.csv\",\"w\")\n",
    "f.write(\"Modelo,Valor,Local\\n\")\n",
    "\n",
    "#escrevemos os dados nas primeiras 1500 linhas do arquivo\n",
    "for l in range(0, 1499):\n",
    "    f.write(products_name[l]+','+ products_price[l]+','+ seller_location[l] + '\\n')"
   ]
  },
  {
   "cell_type": "code",
   "execution_count": null,
   "id": "b7ab344f",
   "metadata": {},
   "outputs": [],
   "source": []
  },
  {
   "cell_type": "code",
   "execution_count": null,
   "id": "d084ba38",
   "metadata": {},
   "outputs": [],
   "source": []
  },
  {
   "cell_type": "code",
   "execution_count": null,
   "id": "27c3e869",
   "metadata": {},
   "outputs": [],
   "source": []
  }
 ],
 "metadata": {
  "kernelspec": {
   "display_name": "Python 3 (ipykernel)",
   "language": "python",
   "name": "python3"
  },
  "language_info": {
   "codemirror_mode": {
    "name": "ipython",
    "version": 3
   },
   "file_extension": ".py",
   "mimetype": "text/x-python",
   "name": "python",
   "nbconvert_exporter": "python",
   "pygments_lexer": "ipython3",
   "version": "3.10.9"
  }
 },
 "nbformat": 4,
 "nbformat_minor": 5
}
